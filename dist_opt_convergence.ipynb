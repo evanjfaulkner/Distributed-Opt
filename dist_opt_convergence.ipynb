{
 "cells": [
  {
   "cell_type": "code",
   "execution_count": 1,
   "id": "f52fc6c6-98a4-4a82-93e1-fc0621613799",
   "metadata": {},
   "outputs": [],
   "source": [
    "import numpy as np\n",
    "import numpy.linalg as la\n",
    "import matplotlib.pyplot as plt\n",
    "import networkx as nx\n",
    "import cvxpy as cp\n",
    "import math\n",
    "from tqdm import tqdm, trange"
   ]
  },
  {
   "cell_type": "markdown",
   "id": "716dfe22-739b-4425-9164-bd01760f7e91",
   "metadata": {},
   "source": [
    "# Networked Distributed Optimization with Exogenous Inputs\n",
    "Consider an $n$-player network game defined on graph structure $\\mathcal{G}=(\\mathcal{N},\\mathcal{E})$, where $\\mathcal{N}=\\{1,\\ldots,n\\}$ are the nodes in the graph---one corresponding to each player---and $$\\mathcal{E}=\\{(i,j)|\\ i,j\\in \\mathcal{N} \\ \\text{such that}\\ i\\  \\text{is connected to } j\\},$$\n",
    "is the set of edges.\n",
    "\n",
    "Each player $i\\in \\mathcal{N}$ collects data and has objective $F_i(x, \\xi_i, \\xi)$ where $\\xi_i\\in \\Xi_i$ is a random variable with fixed but unknown probability distribution with domain $\\Xi_i$ and similarly, $\\xi$ is a random variable with fixed but unknown probability distribution with domain $\\Xi$. The random variable $\\xi_i$ models local environmental fluctuations such as noise. The random variable $\\xi$, on the other hand, models a global information state.\n",
    "\n",
    "In this simulation, we consider a simple Bertrand competition where the players cooperatively seek the social optimum. Each individual has a demand function $D_i(x_i,x_{-i},\\xi)$ which is a nonincreasing function of the prices $x_i$ and $x_{-i}$. Each player obtains a revenue $F_i$ where\n",
    "$$f_i(x_i,x_{-i},\\xi) = x_i\\cdot D_i(x_i,x_{-i},\\xi).$$\n",
    "\n",
    "Here, we consider a linear demand function where $\\xi$ determines the base demand and the price elasticities with respect to each price $x_i$ are given by a vector $\\theta\\in\\mathbb{R}^n$:\n",
    "$$D_i(x_i,x_{-i},\\xi) = \\xi + \\theta_i^\\top x$$"
   ]
  },
  {
   "cell_type": "markdown",
   "id": "e7aae8bd-3522-4e13-8e47-0fff2cb2efcc",
   "metadata": {},
   "source": [
    "# Problem Parameters"
   ]
  },
  {
   "cell_type": "code",
   "execution_count": 2,
   "id": "87a49b7e-a42f-4e80-be27-0e4a612f169f",
   "metadata": {},
   "outputs": [],
   "source": [
    "n = 20  # Number of nodes\n",
    "np.random.seed(37)\n",
    "theta_0 = (1/(n+3))*np.ones((n,n))-2*np.eye(n)\n",
    "theta = theta_0 + 0.1*np.random.randn(n,n)\n",
    "xi_bar = 1e-5\n",
    "sigma_xi = 1e-2"
   ]
  },
  {
   "cell_type": "markdown",
   "id": "afb0e858-cd31-4697-959c-9fc97e9c6024",
   "metadata": {},
   "source": [
    "# Loss and Gradient Oracles"
   ]
  },
  {
   "cell_type": "code",
   "execution_count": 3,
   "id": "44261519-d295-4069-aca9-0906dfbb4b14",
   "metadata": {},
   "outputs": [],
   "source": [
    "def demand(x,theta,xi):  # calculate demand\n",
    "    return np.dot(theta,x) + xi\n",
    "\n",
    "def revenue(x,theta,xi):  # calculate revenue\n",
    "    return x*demand(x,theta,xi)\n",
    "\n",
    "def total_revenue(x,theta,xi):  # calculate social revenue\n",
    "    return np.sum(revenue(x,theta,xi))\n",
    "\n",
    "def grad_revenue(x,theta,xi):  # gradients wrt individual revenues\n",
    "    return np.dot(theta+theta.T,x) + xi"
   ]
  },
  {
   "cell_type": "markdown",
   "id": "898df06e-af79-44a5-89a3-92d325ae87c3",
   "metadata": {},
   "source": [
    "# CVXPY solution"
   ]
  },
  {
   "cell_type": "code",
   "execution_count": 4,
   "id": "20482521-b2fa-4b14-8099-b1c91c1a7a10",
   "metadata": {},
   "outputs": [
    {
     "name": "stdout",
     "output_type": "stream",
     "text": [
      "[12.4   7.72 10.29  8.34 10.57 11.14 11.89  5.56  9.17  9.73  9.38  7.08\n",
      " 11.69  7.82  7.91  8.08  9.1  12.53 12.73  7.51]\n",
      "socially optimal total revenue: $1906.43\n"
     ]
    }
   ],
   "source": [
    "theta_s = 0.5*(theta+theta.T)\n",
    "x = cp.Variable(n)\n",
    "objective = cp.Maximize(cp.quad_form(x,theta_s)+(n*np.ones(n)@x))\n",
    "constraints = [0 <= x, x <= n]\n",
    "prob = cp.Problem(objective, constraints)\n",
    "\n",
    "revenue_so = prob.solve()\n",
    "\n",
    "x_so = x.value\n",
    "print(x_so.round(2))\n",
    "print(f'socially optimal total revenue: ${revenue_so.round(2)}')"
   ]
  },
  {
   "cell_type": "markdown",
   "id": "dc216d81-52ee-4a63-8d51-58bc9d2ae46c",
   "metadata": {},
   "source": [
    "# Optimization Parameters"
   ]
  },
  {
   "cell_type": "code",
   "execution_count": 5,
   "id": "0d254c8c-d9df-478e-9082-3ab7816d4191",
   "metadata": {},
   "outputs": [],
   "source": [
    "step = 1e-2\n",
    "alpha = 1-1e-3\n",
    "p_max = n\n",
    "window = 1\n",
    "delta = 1e2\n",
    "trials = 100"
   ]
  },
  {
   "cell_type": "markdown",
   "id": "59c6d691-d0c1-4f3d-9e87-39345da1b1e3",
   "metadata": {},
   "source": [
    "# Distributed SGD with asynchronous information"
   ]
  },
  {
   "cell_type": "code",
   "execution_count": 6,
   "id": "b6c599ae-e880-4cb6-9c34-0e77813eb636",
   "metadata": {},
   "outputs": [
    {
     "name": "stdout",
     "output_type": "stream",
     "text": [
      "1\n"
     ]
    },
    {
     "name": "stderr",
     "output_type": "stream",
     "text": [
      "  0%|                                                   | 0/100 [00:00<?, ?it/s]<class 'networkx.utils.decorators.argmap'> compilation 12:4: FutureWarning: laplacian_matrix will return a scipy.sparse array instead of a matrix in Networkx 3.0.\n",
      "100%|█████████████████████████████████████████| 100/100 [00:32<00:00,  3.06it/s]\n"
     ]
    },
    {
     "name": "stdout",
     "output_type": "stream",
     "text": [
      "2\n"
     ]
    },
    {
     "name": "stderr",
     "output_type": "stream",
     "text": [
      "100%|█████████████████████████████████████████| 100/100 [00:27<00:00,  3.59it/s]\n"
     ]
    },
    {
     "name": "stdout",
     "output_type": "stream",
     "text": [
      "3\n"
     ]
    },
    {
     "name": "stderr",
     "output_type": "stream",
     "text": [
      "100%|█████████████████████████████████████████| 100/100 [00:25<00:00,  3.91it/s]\n"
     ]
    },
    {
     "name": "stdout",
     "output_type": "stream",
     "text": [
      "4\n"
     ]
    },
    {
     "name": "stderr",
     "output_type": "stream",
     "text": [
      "100%|█████████████████████████████████████████| 100/100 [00:25<00:00,  3.99it/s]\n"
     ]
    },
    {
     "name": "stdout",
     "output_type": "stream",
     "text": [
      "5\n"
     ]
    },
    {
     "name": "stderr",
     "output_type": "stream",
     "text": [
      "100%|█████████████████████████████████████████| 100/100 [00:24<00:00,  4.02it/s]\n"
     ]
    },
    {
     "name": "stdout",
     "output_type": "stream",
     "text": [
      "6\n"
     ]
    },
    {
     "name": "stderr",
     "output_type": "stream",
     "text": [
      "100%|█████████████████████████████████████████| 100/100 [00:24<00:00,  4.04it/s]\n"
     ]
    },
    {
     "name": "stdout",
     "output_type": "stream",
     "text": [
      "7\n"
     ]
    },
    {
     "name": "stderr",
     "output_type": "stream",
     "text": [
      "100%|█████████████████████████████████████████| 100/100 [00:24<00:00,  4.07it/s]\n"
     ]
    },
    {
     "name": "stdout",
     "output_type": "stream",
     "text": [
      "8\n"
     ]
    },
    {
     "name": "stderr",
     "output_type": "stream",
     "text": [
      "100%|█████████████████████████████████████████| 100/100 [00:24<00:00,  4.08it/s]\n"
     ]
    },
    {
     "name": "stdout",
     "output_type": "stream",
     "text": [
      "9\n"
     ]
    },
    {
     "name": "stderr",
     "output_type": "stream",
     "text": [
      "100%|█████████████████████████████████████████| 100/100 [00:24<00:00,  4.05it/s]\n"
     ]
    },
    {
     "name": "stdout",
     "output_type": "stream",
     "text": [
      "10\n"
     ]
    },
    {
     "name": "stderr",
     "output_type": "stream",
     "text": [
      "100%|█████████████████████████████████████████| 100/100 [00:24<00:00,  4.14it/s]\n"
     ]
    },
    {
     "name": "stdout",
     "output_type": "stream",
     "text": [
      "11\n"
     ]
    },
    {
     "name": "stderr",
     "output_type": "stream",
     "text": [
      "100%|█████████████████████████████████████████| 100/100 [00:24<00:00,  4.15it/s]\n"
     ]
    },
    {
     "name": "stdout",
     "output_type": "stream",
     "text": [
      "12\n"
     ]
    },
    {
     "name": "stderr",
     "output_type": "stream",
     "text": [
      "100%|█████████████████████████████████████████| 100/100 [00:23<00:00,  4.23it/s]\n"
     ]
    },
    {
     "name": "stdout",
     "output_type": "stream",
     "text": [
      "13\n"
     ]
    },
    {
     "name": "stderr",
     "output_type": "stream",
     "text": [
      "100%|█████████████████████████████████████████| 100/100 [00:23<00:00,  4.18it/s]\n"
     ]
    },
    {
     "name": "stdout",
     "output_type": "stream",
     "text": [
      "14\n"
     ]
    },
    {
     "name": "stderr",
     "output_type": "stream",
     "text": [
      "100%|█████████████████████████████████████████| 100/100 [00:23<00:00,  4.23it/s]\n"
     ]
    },
    {
     "name": "stdout",
     "output_type": "stream",
     "text": [
      "15\n"
     ]
    },
    {
     "name": "stderr",
     "output_type": "stream",
     "text": [
      "100%|█████████████████████████████████████████| 100/100 [00:23<00:00,  4.21it/s]\n"
     ]
    },
    {
     "name": "stdout",
     "output_type": "stream",
     "text": [
      "16\n"
     ]
    },
    {
     "name": "stderr",
     "output_type": "stream",
     "text": [
      "100%|█████████████████████████████████████████| 100/100 [00:23<00:00,  4.24it/s]\n"
     ]
    },
    {
     "name": "stdout",
     "output_type": "stream",
     "text": [
      "17\n"
     ]
    },
    {
     "name": "stderr",
     "output_type": "stream",
     "text": [
      "100%|█████████████████████████████████████████| 100/100 [00:23<00:00,  4.24it/s]\n"
     ]
    },
    {
     "name": "stdout",
     "output_type": "stream",
     "text": [
      "18\n"
     ]
    },
    {
     "name": "stderr",
     "output_type": "stream",
     "text": [
      "100%|█████████████████████████████████████████| 100/100 [00:23<00:00,  4.24it/s]\n"
     ]
    },
    {
     "name": "stdout",
     "output_type": "stream",
     "text": [
      "19\n"
     ]
    },
    {
     "name": "stderr",
     "output_type": "stream",
     "text": [
      "100%|█████████████████████████████████████████| 100/100 [00:23<00:00,  4.25it/s]\n"
     ]
    }
   ],
   "source": [
    "np.random.seed(37)\n",
    "avg_iterations = []\n",
    "\n",
    "for n_i in range(1,n):\n",
    "    print(n_i)\n",
    "    dist_to_inf = []\n",
    "    for trial in trange(trials):\n",
    "        dist_lst = []\n",
    "        N_i = np.random.choice(n, size=n_i)  # Randomly select n_i informed nodes\n",
    "        N = np.zeros(n, dtype=bool)  # Set of n nodes, initialized to False (uninformed)\n",
    "        N[N_i] = True  # Set informed node indices to True (informed)\n",
    "\n",
    "        G = nx.random_tree(n)  # Generate graph from the nodes in N\n",
    "\n",
    "        attribute_dict = {}  # generate dictionary to add informed status as attribute to each node\n",
    "        for node in G.nodes:\n",
    "            attribute_dict[node] = {'informed': N[node], 'xi': np.random.randn(1)}  \n",
    "\n",
    "        nx.set_node_attributes(G, attribute_dict)  # set attributes for each node\n",
    "\n",
    "        l_tr = np.sort(nx.laplacian_spectrum(G))[1]\n",
    "\n",
    "        P = nx.laplacian_matrix(G).toarray()\n",
    "        P = np.eye(n) - (1/(1+np.max(np.diagonal(P))))*P  # Define doubly stochastic mixing matrix from Laplacian\n",
    "\n",
    "        X = np.random.rand(n,n)\n",
    "\n",
    "        x_dist_hist = []\n",
    "        x_bar_hist = []\n",
    "        xi_t = [n]\n",
    "        iter_count = 0\n",
    "        xerr = 1e9\n",
    "        stop_iter = []\n",
    "\n",
    "        while xerr>delta:\n",
    "            xi_t.append(xi_t[-1] + sigma_xi*np.random.randn(1) + xi_bar)\n",
    "            \n",
    "            theta_s = 0.5*(theta+theta.T)\n",
    "            x = cp.Variable(n)\n",
    "            objective = cp.Maximize(cp.quad_form(x,theta_s)+(xi_t[-1]*np.ones(n)@x))\n",
    "            constraints = [0 <= x, x <= n]\n",
    "            prob = cp.Problem(objective, constraints)\n",
    "\n",
    "            revenue_so = prob.solve()\n",
    "            x_so = x.value\n",
    "            \n",
    "            for node in range(n):\n",
    "                if G.nodes[node]['informed']:\n",
    "                    G.nodes[node]['xi'] = xi_t[-1]\n",
    "                else:\n",
    "                    xi_lst = []\n",
    "                    for neig in G.neighbors(node):\n",
    "                        xi_lst.append(G.nodes[neig]['xi'])\n",
    "                    G.nodes[node]['xi'] = sum(xi_lst)/len(xi_lst)\n",
    "            for node in range(n):\n",
    "                if G.nodes[node]['informed']:\n",
    "                    G.nodes[node]['xi'] = xi_t[-1]\n",
    "                else:\n",
    "                    xi_lst = []\n",
    "                    for neig in G.neighbors(node):\n",
    "                        xi_lst.append(G.nodes[neig]['xi'])\n",
    "                    G.nodes[node]['xi'] = sum(xi_lst)/len(xi_lst)\n",
    "            x_dist_hist.append(np.mean(X.copy(),axis=0))\n",
    "            ma_len = min(window,len(x_dist_hist))\n",
    "            xerr = la.norm(x_so - np.mean(x_dist_hist[-ma_len:],axis=0))**2\n",
    "            X = np.dot(P,X)\n",
    "            for j in range(n):\n",
    "                xi_j = G.nodes[j]['xi']\n",
    "                X[j] += (step*(alpha**iter_count))*grad_revenue(X[j],theta,xi_j)\n",
    "            X = np.clip(X,0,p_max)\n",
    "            iter_count +=1\n",
    "        stop_iter.append(iter_count)\n",
    "    avg_iter = np.mean(stop_iter)\n",
    "    avg_iterations.append(avg_iter)"
   ]
  },
  {
   "cell_type": "code",
   "execution_count": 7,
   "id": "429e0c2d-7ce0-4d62-9629-a08bba850a47",
   "metadata": {},
   "outputs": [
    {
     "data": {
      "image/png": "[encoded data removed]",
      "text/plain": [
       "<Figure size 576x288 with 1 Axes>"
      ]
     },
     "metadata": {
      "needs_background": "light"
     },
     "output_type": "display_data"
    }
   ],
   "source": [
    "plt.figure(figsize=(8,4))\n",
    "plt.plot(avg_iterations)\n",
    "plt.title(r'Iterations to $\\delta\\leq 0.1$ vs. $N_i$')\n",
    "plt.xlabel('Number informed nodes')\n",
    "plt.ylabel('Iterations to desired accuracy')\n",
    "plt.grid()\n",
    "plt.tight_layout()\n",
    "plt.savefig('./figures/iterations_vs_ni.png')\n",
    "plt.show()"
   ]
  },
  {
   "cell_type": "code",
   "execution_count": null,
   "id": "9076e5a4-f730-4bee-8049-cdd928c942ea",
   "metadata": {},
   "outputs": [],
   "source": []
  }
 ],
 "metadata": {
  "kernelspec": {
   "display_name": "Python 3 (ipykernel)",
   "language": "python",
   "name": "python3"
  },
  "language_info": {
   "codemirror_mode": {
    "name": "ipython",
    "version": 3
   },
   "file_extension": ".py",
   "mimetype": "text/x-python",
   "name": "python",
   "nbconvert_exporter": "python",
   "pygments_lexer": "ipython3",
   "version": "3.9.10"
  }
 },
 "nbformat": 4,
 "nbformat_minor": 5
}
