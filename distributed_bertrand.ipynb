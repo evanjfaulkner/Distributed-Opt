{
 "cells": [
  {
   "cell_type": "code",
   "execution_count": 1,
   "id": "f52fc6c6-98a4-4a82-93e1-fc0621613799",
   "metadata": {},
   "outputs": [],
   "source": [
    "import numpy as np\n",
    "import numpy.linalg as la\n",
    "import matplotlib.pyplot as plt\n",
    "import networkx as nx\n",
    "import math\n",
    "from tqdm import tqdm, trange"
   ]
  },
  {
   "cell_type": "markdown",
   "id": "716dfe22-739b-4425-9164-bd01760f7e91",
   "metadata": {},
   "source": [
    "# Networked Distributed Optimization with Exogenous Inputs\n",
    "Consider an $n$-player network game defined on graph structure $\\mathcal{G}=(\\mathcal{N},\\mathcal{E})$, where $\\mathcal{N}=\\{1,\\ldots,n\\}$ are the nodes in the graph---one corresponding to each player---and $$\\mathcal{E}=\\{(i,j)|\\ i,j\\in \\mathcal{N} \\ \\text{such that}\\ i\\  \\text{is connected to } j\\},$$\n",
    "is the set of edges.\n",
    "\n",
    "Each player $i\\in \\mathcal{N}$ collects data and has objective $F_i(x, \\xi_i, \\xi)$ where $\\xi_i\\in \\Xi_i$ is a random variable with fixed but unknown probability distribution with domain $\\Xi_i$ and similarly, $\\xi$ is a random variable with fixed but unknown probability distribution with domain $\\Xi$. The random variable $\\xi_i$ models local environmental fluctuations such as noise. The random variable $\\xi$, on the other hand, models a global information state.\n",
    "\n",
    "In this simulation, we consider a simple Bertrand competition where the players cooperatively seek the social optimum. Each individual has a demand function $D_i(x_i,x_{-i},\\xi)$ which is a nonincreasing function of the prices $x_i$ and $x_{-i}$. Each player obtains a revenue $F_i$ where\n",
    "$$F_i(x_i,x_{-i},\\xi) = x_i\\cdot D_i(x_i,x_{-i},\\xi).$$\n",
    "\n",
    "Here, we consider a linear demand function where $\\xi$ determines the base demand and the price elasticities with respect to each price $x_i$ are given by a vector $\\theta\\in\\mathbb{R}^n$:\n",
    "$$D_i(x_i,x_{-i},\\xi) = \\xi + \\theta^\\top x$$"
   ]
  },
  {
   "cell_type": "markdown",
   "id": "5279a755-060e-4790-ba27-5668d1af9561",
   "metadata": {},
   "source": [
    "# Generate Communication Network"
   ]
  },
  {
   "cell_type": "code",
   "execution_count": 2,
   "id": "524abf3f-3f68-496f-98ec-6e035190a50b",
   "metadata": {},
   "outputs": [],
   "source": [
    "n = 100  # Number of nodes\n",
    "n_i = 5  # Number of informed nodes\n",
    "\n",
    "N_i = np.random.choice(n, size=n_i)  # Randomly select n_i informed nodes\n",
    "N = np.zeros(n, dtype=bool)  # Set of n nodes, initialized to False (uninformed)\n",
    "N[N_i] = True  # Set informed node indices to True (informed)\n",
    "\n",
    "G = nx.path_graph(n)  # Generate line graph from the nodes in N\n",
    "\n",
    "attribute_dict = {}  # generate dictionary to add informed status as attribute to each node\n",
    "for node in G.nodes:\n",
    "    attribute_dict[node] = {'informed': N[node], 'xi': np.random.randn(1)}  \n",
    "    \n",
    "nx.set_node_attributes(G, attribute_dict)  # set attributes for each node"
   ]
  },
  {
   "cell_type": "code",
   "execution_count": 3,
   "id": "31c52828-888b-4b28-9712-6d743dd953ae",
   "metadata": {},
   "outputs": [
    {
     "data": {
      "image/png": "[encoded data removed]",
      "text/plain": [
       "<Figure size 432x288 with 1 Axes>"
      ]
     },
     "metadata": {},
     "output_type": "display_data"
    }
   ],
   "source": [
    "nx.draw_spectral(G)"
   ]
  },
  {
   "cell_type": "markdown",
   "id": "e7aae8bd-3522-4e13-8e47-0fff2cb2efcc",
   "metadata": {},
   "source": [
    "# Problem Parameters"
   ]
  },
  {
   "cell_type": "code",
   "execution_count": 4,
   "id": "87a49b7e-a42f-4e80-be27-0e4a612f169f",
   "metadata": {},
   "outputs": [
    {
     "name": "stdout",
     "output_type": "stream",
     "text": [
      "[[-0.86660595 -0.08352952  0.1501735  ... -0.11364056 -0.09051471\n",
      "  -0.06750873]\n",
      " [ 0.06013543 -1.07298637  0.00628074 ...  0.10421378  0.08393931\n",
      "   0.14285693]\n",
      " [ 0.19230487 -0.16281927 -0.97925593 ... -0.07882725  0.11725957\n",
      "   0.0603664 ]\n",
      " ...\n",
      " [-0.03624918  0.16419193  0.01306272 ... -1.05856406  0.06525573\n",
      "  -0.07260191]\n",
      " [ 0.12035869 -0.06362219  0.06688016 ...  0.16582322 -1.03292653\n",
      "  -0.03113579]\n",
      " [-0.0455348  -0.06834372  0.0794236  ...  0.28056404  0.02099263\n",
      "  -1.04564628]]\n"
     ]
    }
   ],
   "source": [
    "theta_0 = (1/(n+3))*np.ones((n,n))-np.eye(n)\n",
    "theta = theta_0 + 0.1*np.random.randn(n,n)\n",
    "print(theta)\n",
    "xi = n"
   ]
  },
  {
   "cell_type": "markdown",
   "id": "afb0e858-cd31-4697-959c-9fc97e9c6024",
   "metadata": {},
   "source": [
    "# Loss and Gradient Oracles"
   ]
  },
  {
   "cell_type": "code",
   "execution_count": 5,
   "id": "44261519-d295-4069-aca9-0906dfbb4b14",
   "metadata": {},
   "outputs": [],
   "source": [
    "def demand(x,theta,xi):  # calculate demand\n",
    "    return np.dot(theta,x) + xi\n",
    "\n",
    "def revenue(x,theta,xi):  # calculate revenue\n",
    "    return x*demand(x,theta,xi)\n",
    "\n",
    "def total_revenue(x,theta,xi):  # calculate social revenue\n",
    "    return np.sum(revenue(x,theta,xi))\n",
    "\n",
    "def grad_revenue(x,theta,xi):  # gradients wrt individual revenues\n",
    "    return 2*np.dot(theta,x) + xi"
   ]
  },
  {
   "cell_type": "markdown",
   "id": "898df06e-af79-44a5-89a3-92d325ae87c3",
   "metadata": {},
   "source": [
    "# Centralized GD"
   ]
  },
  {
   "cell_type": "code",
   "execution_count": 6,
   "id": "20482521-b2fa-4b14-8099-b1c91c1a7a10",
   "metadata": {},
   "outputs": [
    {
     "name": "stderr",
     "output_type": "stream",
     "text": [
      "100%|█████████████████████████████████████| 2000/2000 [00:00<00:00, 6833.89it/s]\n"
     ]
    },
    {
     "data": {
      "image/png": "[encoded data removed]",
      "text/plain": [
       "<Figure size 432x288 with 1 Axes>"
      ]
     },
     "metadata": {
      "needs_background": "light"
     },
     "output_type": "display_data"
    },
    {
     "name": "stdout",
     "output_type": "stream",
     "text": [
      "[4.79450596e+01 6.78456650e+01 1.00000000e+02 1.83505521e+01\n",
      " 4.69099938e+01 1.00000000e+02 1.00000000e+02 5.24402896e+01\n",
      " 6.23480988e+01 0.00000000e+00 7.61227361e+01 5.06479262e+01\n",
      " 5.04268152e+01 1.00000000e+02 1.00000000e+02 1.00000000e+02\n",
      " 1.00000000e+02 1.00000000e+02 1.00000000e+02 2.03636931e+01\n",
      " 1.00000000e+02 0.00000000e+00 1.00000000e+02 2.57362652e+01\n",
      " 1.00000000e+02 1.00000000e+02 1.25207121e+01 2.32380805e-04\n",
      " 1.00000000e+02 1.00000000e+02 1.00000000e+02 1.00000000e+02\n",
      " 1.00000000e+02 1.00000000e+02 1.00000000e+02 9.43437095e+01\n",
      " 0.00000000e+00 5.56243853e+01 7.03869819e+01 1.00000000e+02\n",
      " 1.00000000e+02 1.00000000e+02 1.00000000e+02 3.07361374e+01\n",
      " 1.00000000e+02 1.00000000e+02 1.00000000e+02 1.00000000e+02\n",
      " 1.00000000e+02 1.00000000e+02 1.00000000e+02 9.84088129e+01\n",
      " 8.52952749e+01 1.00000000e+02 1.00000000e+02 0.00000000e+00\n",
      " 1.00000000e+02 1.00000000e+02 1.00000000e+02 1.00000000e+02\n",
      " 1.00000000e+02 1.00000000e+02 1.00000000e+02 6.47305899e+01\n",
      " 1.00000000e+02 1.00000000e+02 0.00000000e+00 9.11340928e+01\n",
      " 9.81347992e+01 0.00000000e+00 1.00000000e+02 4.48865120e+01\n",
      " 1.00000000e+02 1.00000000e+02 2.65577256e+01 1.00000000e+02\n",
      " 1.00000000e+02 5.71649853e+01 6.57984762e+01 1.00000000e+02\n",
      " 0.00000000e+00 1.00000000e+02 1.00000000e+02 1.00000000e+02\n",
      " 1.00000000e+02 1.00000000e+02 1.00000000e+02 1.00000000e+02\n",
      " 1.00000000e+02 1.00000000e+02 1.00000000e+02 1.00000000e+02\n",
      " 1.00000000e+02 4.65389938e+01 1.00000000e+02 9.81475868e+01\n",
      " 0.00000000e+00 1.00000000e+02 3.38102540e+01 1.00000000e+02]\n"
     ]
    }
   ],
   "source": [
    "x = np.random.rand(n)  # Initialize prices\n",
    "step = 1e-2  # Step size\n",
    "p_max = n  # Set maximum price\n",
    "rev = []\n",
    "x_hist = []\n",
    "iterations = 2000\n",
    "\n",
    "# Run centralized GD\n",
    "for i in trange(iterations):\n",
    "    xi = n+np.random.randn(1)\n",
    "    rev.append(total_revenue(x,theta,xi))\n",
    "    x_hist.append(x.copy())\n",
    "    x += step*grad_revenue(x,theta,xi)\n",
    "    x = np.clip(x,0,p_max)\n",
    "    \n",
    "plt.figure()\n",
    "plt.plot(rev)\n",
    "plt.grid()\n",
    "plt.show()\n",
    "\n",
    "print(x)"
   ]
  },
  {
   "cell_type": "code",
   "execution_count": 7,
   "id": "ae169aed-d053-4787-ac5c-87b83c5d0909",
   "metadata": {},
   "outputs": [],
   "source": [
    "if n==2:\n",
    "    x_hist = np.array(x_hist)\n",
    "    plt.figure()\n",
    "    plt.plot(x_hist[:,0],x_hist[:,1],'-o')\n",
    "    plt.scatter(x_hist[-1,0],x_hist[-1,1],c='k',zorder=10)\n",
    "    plt.grid()\n",
    "    plt.show()"
   ]
  },
  {
   "cell_type": "markdown",
   "id": "c629e3c9-e317-40c0-a971-0d77d58e6c0b",
   "metadata": {},
   "source": [
    "# Distributed SGD with synchronous information"
   ]
  },
  {
   "cell_type": "code",
   "execution_count": 8,
   "id": "fba447ed-8404-4f8f-8081-509a438731ea",
   "metadata": {},
   "outputs": [
    {
     "name": "stderr",
     "output_type": "stream",
     "text": [
      "<class 'networkx.utils.decorators.argmap'> compilation 12:4: FutureWarning: laplacian_matrix will return a scipy.sparse array instead of a matrix in Networkx 3.0.\n",
      "100%|██████████████████████████████████████| 2000/2000 [00:14<00:00, 134.55it/s]\n"
     ]
    },
    {
     "data": {
      "image/png": "[encoded data removed]",
      "text/plain": [
       "<Figure size 432x288 with 1 Axes>"
      ]
     },
     "metadata": {
      "needs_background": "light"
     },
     "output_type": "display_data"
    },
    {
     "name": "stdout",
     "output_type": "stream",
     "text": [
      "[ 47.89697475  67.82182951 100.          18.30487896  46.893055\n",
      " 100.         100.          52.40558358  62.3357274    0.\n",
      "  76.09198741  50.61105094  50.390564   100.         100.\n",
      " 100.         100.         100.         100.          20.32681528\n",
      " 100.           0.         100.          25.67976655 100.\n",
      " 100.          12.50255826   0.         100.         100.\n",
      " 100.         100.         100.         100.         100.\n",
      "  94.32594697   0.          55.59158077  70.34157244 100.\n",
      " 100.         100.         100.          30.7158277  100.\n",
      " 100.         100.         100.         100.         100.\n",
      " 100.          98.38016634  85.26834307 100.         100.\n",
      "   0.         100.         100.         100.         100.\n",
      " 100.         100.         100.          64.67858144 100.\n",
      " 100.           0.          91.10660122  98.09810421   0.\n",
      " 100.          44.85293889 100.         100.          26.53419247\n",
      " 100.         100.          57.12429658  65.80661769 100.\n",
      "   0.         100.         100.         100.         100.\n",
      " 100.         100.         100.         100.         100.\n",
      " 100.         100.         100.          46.49422337 100.\n",
      "  98.1141045    0.         100.          33.79466671 100.        ]\n"
     ]
    }
   ],
   "source": [
    "P = nx.laplacian_matrix(G).toarray()\n",
    "P = np.eye(n) - (1/(1+np.max(np.diagonal(P))))*P  # Define doubly stochastic mixing matrix from Laplacian\n",
    "\n",
    "X = np.random.rand(n,n)\n",
    "\n",
    "step = 1e-2  # Step size\n",
    "p_max = n  # Set maximum price\n",
    "rev_cent = []\n",
    "x_hist = []\n",
    "iterations = 2000\n",
    "\n",
    "for i in trange(iterations):\n",
    "    xi = n+np.random.randn(1)\n",
    "    x_hist.append(X.copy().T)\n",
    "    X = np.dot(P,X)\n",
    "    temp = []\n",
    "    for j in range(n):\n",
    "        X[j] += step*grad_revenue(X[j],theta,xi)\n",
    "        temp.append(total_revenue(X[j],theta,xi))\n",
    "    rev_cent.append(sum(temp)/len(temp))\n",
    "    X = np.clip(X,0,p_max)\n",
    "    \n",
    "plt.figure()\n",
    "plt.plot(rev_cent)\n",
    "plt.grid()\n",
    "plt.show()\n",
    "\n",
    "print(np.mean(X,axis=0))"
   ]
  },
  {
   "cell_type": "code",
   "execution_count": 9,
   "id": "0721cef6-0fd0-4789-b8eb-66f864f44579",
   "metadata": {},
   "outputs": [],
   "source": [
    "if n==2:\n",
    "    x_hist = np.array(x_hist)\n",
    "    plt.figure()\n",
    "    plt.plot(x_hist[:,0],x_hist[:,1],'-o')\n",
    "    plt.scatter(x_hist[-1,0],x_hist[-1,1],c='k',zorder=10)\n",
    "    plt.grid()\n",
    "    plt.show()"
   ]
  },
  {
   "cell_type": "code",
   "execution_count": 10,
   "id": "50051a4e-d6e3-4337-b544-d4932d40df9f",
   "metadata": {},
   "outputs": [
    {
     "name": "stdout",
     "output_type": "stream",
     "text": [
      "error = 0.03210242968224426\n"
     ]
    }
   ],
   "source": [
    "print(f'error = {la.norm(x-np.mean(X,axis=0))**2}')"
   ]
  },
  {
   "cell_type": "markdown",
   "id": "59c6d691-d0c1-4f3d-9e87-39345da1b1e3",
   "metadata": {},
   "source": [
    "# Distributed SGD with synchronous information"
   ]
  },
  {
   "cell_type": "code",
   "execution_count": 11,
   "id": "b6c599ae-e880-4cb6-9c34-0e77813eb636",
   "metadata": {},
   "outputs": [
    {
     "name": "stderr",
     "output_type": "stream",
     "text": [
      "100%|██████████████████████████████████████| 2000/2000 [00:15<00:00, 127.52it/s]\n"
     ]
    },
    {
     "data": {
      "image/png": "[encoded data removed]",
      "text/plain": [
       "<Figure size 432x288 with 1 Axes>"
      ]
     },
     "metadata": {
      "needs_background": "light"
     },
     "output_type": "display_data"
    },
    {
     "name": "stdout",
     "output_type": "stream",
     "text": [
      "[ 47.91732989  67.81738397 100.          18.32088248  46.91190478\n",
      " 100.         100.          52.44006888  62.32556176   0.\n",
      "  76.09505942  50.60025313  50.40712077 100.         100.\n",
      " 100.         100.         100.         100.          20.35032891\n",
      " 100.           0.         100.          25.6954271  100.\n",
      " 100.          12.50436987   0.         100.         100.\n",
      " 100.         100.         100.         100.         100.\n",
      "  94.31729823   0.          55.59763477  70.38271009 100.\n",
      " 100.         100.         100.          30.72499332 100.\n",
      " 100.         100.         100.         100.         100.\n",
      " 100.          98.37395933  85.28106992 100.         100.\n",
      "   0.         100.         100.         100.         100.\n",
      " 100.         100.         100.          64.67727446 100.\n",
      " 100.           0.          91.08532164  98.08602101   0.\n",
      " 100.          44.85186315 100.         100.          26.54515647\n",
      " 100.         100.          57.14325334  65.76351472 100.\n",
      "   0.         100.         100.         100.         100.\n",
      " 100.         100.         100.         100.         100.\n",
      " 100.         100.         100.          46.49420612 100.\n",
      "  98.11626916   0.         100.          33.80169602 100.        ]\n"
     ]
    }
   ],
   "source": [
    "P = nx.laplacian_matrix(G).toarray()\n",
    "P = np.eye(n) - (1/(1+np.max(np.diagonal(P))))*P  # Define doubly stochastic mixing matrix from Laplacian\n",
    "\n",
    "X = np.random.rand(n,n)\n",
    "\n",
    "step = 1e-2  # Step size\n",
    "p_max = n  # Set maximum price\n",
    "rev_dist = []\n",
    "x_dist_hist = []\n",
    "iterations = 2000\n",
    "\n",
    "for i in trange(iterations):\n",
    "    xi = n+np.random.randn(1)\n",
    "    for node in range(n):\n",
    "        if G.nodes[node]['informed']:\n",
    "            G.nodes[node]['xi'] = xi\n",
    "        else:\n",
    "            xi_lst = []\n",
    "            for neig in G.neighbors(node):\n",
    "                xi_lst.append(G.nodes[neig]['xi'])\n",
    "            G.nodes[node]['xi'] = sum(xi_lst)/len(xi_lst)\n",
    "    x_dist_hist.append(X.copy().T)\n",
    "    X = np.dot(P,X)\n",
    "    temp = []\n",
    "    for j in range(n):\n",
    "        xi_j = G.nodes[j]['xi']\n",
    "        X[j] += step*grad_revenue(X[j],theta,xi_j)\n",
    "        temp.append(total_revenue(X[j],theta,xi_j))\n",
    "    rev_dist.append(sum(temp)/len(temp))\n",
    "    X = np.clip(X,0,p_max)\n",
    "    \n",
    "plt.figure()\n",
    "plt.plot(rev_dist)\n",
    "plt.grid()\n",
    "plt.show()\n",
    "\n",
    "print(np.mean(X,axis=0))"
   ]
  },
  {
   "cell_type": "code",
   "execution_count": 12,
   "id": "c6ef2cca-6517-448c-92e4-e9244e340db9",
   "metadata": {},
   "outputs": [
    {
     "name": "stdout",
     "output_type": "stream",
     "text": [
      "error = 0.02518642274551589\n"
     ]
    }
   ],
   "source": [
    "print(f'error = {la.norm(x-np.mean(X,axis=0))**2}')"
   ]
  },
  {
   "cell_type": "markdown",
   "id": "a6831b9c-476e-413a-ab2c-725d09a12ddd",
   "metadata": {},
   "source": [
    "# Fully connected graph"
   ]
  },
  {
   "cell_type": "code",
   "execution_count": 13,
   "id": "8bfa2ec8-fa53-4cd4-933b-d3691f429349",
   "metadata": {},
   "outputs": [
    {
     "name": "stderr",
     "output_type": "stream",
     "text": [
      "100%|██████████████████████████████████████| 2000/2000 [00:18<00:00, 105.74it/s]\n"
     ]
    },
    {
     "data": {
      "image/png": "[encoded data removed]",
      "text/plain": [
       "<Figure size 432x288 with 1 Axes>"
      ]
     },
     "metadata": {
      "needs_background": "light"
     },
     "output_type": "display_data"
    },
    {
     "name": "stdout",
     "output_type": "stream",
     "text": [
      "[ 47.86010635  67.77554253 100.          18.26267367  46.88079076\n",
      " 100.         100.          52.39149961  62.29555665   0.\n",
      "  76.04847393  50.54665908  50.35700951 100.         100.\n",
      " 100.         100.         100.         100.          20.30151049\n",
      " 100.           0.         100.          25.62804178 100.\n",
      " 100.          12.46684807   0.         100.         100.\n",
      " 100.         100.         100.         100.         100.\n",
      "  94.28064243   0.          55.54737846  70.32950124 100.\n",
      " 100.         100.         100.          30.68873043 100.\n",
      " 100.         100.         100.         100.         100.\n",
      " 100.          98.32827054  85.23963938 100.         100.\n",
      "   0.         100.         100.         100.         100.\n",
      " 100.         100.         100.          64.61066203 100.\n",
      " 100.           0.          91.03810597  98.0319354    0.\n",
      " 100.          44.80232743 100.         100.          26.50531513\n",
      " 100.         100.          57.08872025  65.74190834 100.\n",
      "   0.         100.         100.         100.         100.\n",
      " 100.         100.         100.         100.         100.\n",
      " 100.         100.         100.          46.43682031 100.\n",
      "  98.06767643   0.         100.          33.76948181 100.        ]\n"
     ]
    }
   ],
   "source": [
    "n = 100  # Number of nodes\n",
    "n_i = 5  # Number of informed nodes\n",
    "\n",
    "N_i = np.random.choice(n, size=n_i)  # Randomly select n_i informed nodes\n",
    "N = np.zeros(n, dtype=bool)  # Set of n nodes, initialized to False (uninformed)\n",
    "N[N_i] = True  # Set informed node indices to True (informed)\n",
    "\n",
    "G = nx.erdos_renyi_graph(n,0.2)  # Generate line graph from the nodes in N\n",
    "\n",
    "attribute_dict = {}  # generate dictionary to add informed status as attribute to each node\n",
    "for node in G.nodes:\n",
    "    attribute_dict[node] = {'informed': N[node], 'xi': np.random.randn(1)}  \n",
    "    \n",
    "nx.set_node_attributes(G, attribute_dict)  # set attributes for each node\n",
    "\n",
    "P = nx.laplacian_matrix(G).toarray()\n",
    "P = np.eye(n) - (1/(1+np.max(np.diagonal(P))))*P  # Define doubly stochastic mixing matrix from Laplacian\n",
    "\n",
    "X = np.random.rand(n,n)\n",
    "\n",
    "step = 1e-2  # Step size\n",
    "p_max = n  # Set maximum price\n",
    "rev_dist = []\n",
    "x_dist_hist = []\n",
    "iterations = 2000\n",
    "\n",
    "for i in trange(iterations):\n",
    "    xi = n+np.random.randn(1)\n",
    "    for node in range(n):\n",
    "        if G.nodes[node]['informed']:\n",
    "            G.nodes[node]['xi'] = xi\n",
    "        else:\n",
    "            xi_lst = []\n",
    "            for neig in G.neighbors(node):\n",
    "                xi_lst.append(G.nodes[neig]['xi'])\n",
    "            G.nodes[node]['xi'] = sum(xi_lst)/len(xi_lst)\n",
    "    x_dist_hist.append(X.copy().T)\n",
    "    X = np.dot(P,X)\n",
    "    temp = []\n",
    "    for j in range(n):\n",
    "        xi_j = G.nodes[j]['xi']\n",
    "        X[j] += step*grad_revenue(X[j],theta,xi_j)\n",
    "        temp.append(total_revenue(X[j],theta,xi_j))\n",
    "    rev_dist.append(sum(temp)/len(temp))\n",
    "    X = np.clip(X,0,p_max)\n",
    "    \n",
    "plt.figure()\n",
    "plt.plot(rev_dist)\n",
    "plt.grid()\n",
    "plt.show()\n",
    "\n",
    "print(np.mean(X,axis=0))"
   ]
  },
  {
   "cell_type": "code",
   "execution_count": 14,
   "id": "e3f26e18-715d-476f-bac4-7ac489593a4b",
   "metadata": {},
   "outputs": [
    {
     "name": "stdout",
     "output_type": "stream",
     "text": [
      "error = 0.16153001700298983\n"
     ]
    }
   ],
   "source": [
    "print(f'error = {la.norm(x-np.mean(X,axis=0))**2}')"
   ]
  },
  {
   "cell_type": "markdown",
   "id": "4e5396fe-ee56-4bdd-82b2-b0a4d3c70c81",
   "metadata": {},
   "source": [
    "# Erdos Renyi random graph p=0.2"
   ]
  },
  {
   "cell_type": "code",
   "execution_count": 15,
   "id": "48059232-2923-4e95-8649-db3914a0467d",
   "metadata": {},
   "outputs": [
    {
     "name": "stderr",
     "output_type": "stream",
     "text": [
      "100%|███████████████████████████████████████| 2000/2000 [00:25<00:00, 79.56it/s]\n"
     ]
    },
    {
     "data": {
      "image/png": "[encoded data removed]",
      "text/plain": [
       "<Figure size 432x288 with 1 Axes>"
      ]
     },
     "metadata": {
      "needs_background": "light"
     },
     "output_type": "display_data"
    },
    {
     "name": "stdout",
     "output_type": "stream",
     "text": [
      "[ 47.8702611   67.76605268 100.          18.27393118  46.86746704\n",
      " 100.         100.          52.3958105   62.27466954   0.\n",
      "  76.04598681  50.5470061   50.36079807 100.         100.\n",
      " 100.         100.         100.         100.          20.30476408\n",
      " 100.           0.         100.          25.64740649 100.\n",
      " 100.          12.45425425   0.         100.         100.\n",
      " 100.         100.         100.         100.         100.\n",
      "  94.2672873    0.          55.54591706  70.3415173  100.\n",
      " 100.         100.         100.          30.67699394 100.\n",
      " 100.         100.         100.         100.         100.\n",
      " 100.          98.32334713  85.23451929 100.         100.\n",
      "   0.         100.         100.         100.         100.\n",
      " 100.         100.         100.          64.62424689 100.\n",
      " 100.           0.          91.03054417  98.03198646   0.\n",
      " 100.          44.80065123 100.         100.          26.49807292\n",
      " 100.         100.          57.09566107  65.70634818 100.\n",
      "   0.         100.         100.         100.         100.\n",
      " 100.         100.         100.         100.         100.\n",
      " 100.         100.         100.          46.44359445 100.\n",
      "  98.06543046   0.         100.          33.75415478 100.        ]\n"
     ]
    }
   ],
   "source": [
    "P = nx.laplacian_matrix(G).toarray()\n",
    "P = np.eye(n) - (1/(1+np.max(np.diagonal(P))))*P  # Define doubly stochastic mixing matrix from Laplacian\n",
    "\n",
    "X = np.random.rand(n,n)\n",
    "\n",
    "step = 1e-2  # Step size\n",
    "p_max = n  # Set maximum price\n",
    "rev_dist = []\n",
    "x_dist_hist = []\n",
    "iterations = 2000\n",
    "\n",
    "for i in trange(iterations):\n",
    "    xi = n+np.random.randn(1)\n",
    "    for node in range(n):\n",
    "        if G.nodes[node]['informed']:\n",
    "            G.nodes[node]['xi'] = xi\n",
    "        else:\n",
    "            xi_lst = []\n",
    "            for neig in G.neighbors(node):\n",
    "                xi_lst.append(G.nodes[neig]['xi'])\n",
    "            G.nodes[node]['xi'] = sum(xi_lst)/len(xi_lst)\n",
    "    x_dist_hist.append(X.copy().T)\n",
    "    X = np.dot(P,X)\n",
    "    temp = []\n",
    "    for j in range(n):\n",
    "        xi_j = G.nodes[j]['xi']\n",
    "        X[j] += step*grad_revenue(X[j],theta,xi_j)\n",
    "        temp.append(total_revenue(X[j],theta,xi_j))\n",
    "    rev_dist.append(sum(temp)/len(temp))\n",
    "    X = np.clip(X,0,p_max)\n",
    "    \n",
    "plt.figure()\n",
    "plt.plot(rev_dist)\n",
    "plt.grid()\n",
    "plt.show()\n",
    "\n",
    "print(np.mean(X,axis=0))"
   ]
  },
  {
   "cell_type": "code",
   "execution_count": 16,
   "id": "b7eec6d5-8c8c-4d16-b8e2-d9ee0eeba42a",
   "metadata": {},
   "outputs": [
    {
     "name": "stdout",
     "output_type": "stream",
     "text": [
      "error = 0.16758287695930338\n"
     ]
    }
   ],
   "source": [
    "print(f'error = {la.norm(x-np.mean(X,axis=0))**2}')"
   ]
  }
 ],
 "metadata": {
  "kernelspec": {
   "display_name": "Python 3 (ipykernel)",
   "language": "python",
   "name": "python3"
  },
  "language_info": {
   "codemirror_mode": {
    "name": "ipython",
    "version": 3
   },
   "file_extension": ".py",
   "mimetype": "text/x-python",
   "name": "python",
   "nbconvert_exporter": "python",
   "pygments_lexer": "ipython3",
   "version": "3.9.10"
  }
 },
 "nbformat": 4,
 "nbformat_minor": 5
}
