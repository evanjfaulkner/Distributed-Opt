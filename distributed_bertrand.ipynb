{
 "cells": [
  {
   "cell_type": "code",
   "execution_count": 1,
   "id": "f52fc6c6-98a4-4a82-93e1-fc0621613799",
   "metadata": {},
   "outputs": [],
   "source": [
    "import numpy as np\n",
    "import numpy.linalg as la\n",
    "import matplotlib.pyplot as plt\n",
    "import networkx as nx\n",
    "import math\n",
    "from tqdm import tqdm, trange"
   ]
  },
  {
   "cell_type": "markdown",
   "id": "716dfe22-739b-4425-9164-bd01760f7e91",
   "metadata": {},
   "source": [
    "# Networked Distributed Optimization with Exogenous Inputs\n",
    "Consider an $n$-player network game defined on graph structure $\\mathcal{G}=(\\mathcal{N},\\mathcal{E})$, where $\\mathcal{N}=\\{1,\\ldots,n\\}$ are the nodes in the graph---one corresponding to each player---and $$\\mathcal{E}=\\{(i,j)|\\ i,j\\in \\mathcal{N} \\ \\text{such that}\\ i\\  \\text{is connected to } j\\},$$\n",
    "is the set of edges.\n",
    "\n",
    "Each player $i\\in \\mathcal{N}$ collects data and has objective $F_i(x, \\xi_i, \\xi)$ where $\\xi_i\\in \\Xi_i$ is a random variable with fixed but unknown probability distribution with domain $\\Xi_i$ and similarly, $\\xi$ is a random variable with fixed but unknown probability distribution with domain $\\Xi$. The random variable $\\xi_i$ models local environmental fluctuations such as noise. The random variable $\\xi$, on the other hand, models a global information state.\n",
    "\n",
    "In this simulation, we consider a simple Bertrand competition where the players cooperatively seek the social optimum. Each individual has a demand function $D_i(x_i,x_{-i},\\xi)$ which is a nonincreasing function of the prices $x_i$ and $x_{-i}$. Each player obtains a revenue $F_i$ where\n",
    "$$F_i(x_i,x_{-i},\\xi) = x_i\\cdot D_i(x_i,x_{-i},\\xi).$$\n",
    "\n",
    "Here, we consider a linear demand function where $\\xi$ determines the base demand and the price elasticities with respect to each price $x_i$ are given by a vector $\\theta\\in\\mathbb{R}^n$:\n",
    "$$D_i(x_i,x_{-i},\\xi) = \\xi + \\theta^\\top x$$"
   ]
  },
  {
   "cell_type": "markdown",
   "id": "5279a755-060e-4790-ba27-5668d1af9561",
   "metadata": {},
   "source": [
    "# Generate Communication Network"
   ]
  },
  {
   "cell_type": "code",
   "execution_count": 2,
   "id": "524abf3f-3f68-496f-98ec-6e035190a50b",
   "metadata": {},
   "outputs": [],
   "source": [
    "n = 100  # Number of nodes\n",
    "n_i = 5  # Number of informed nodes\n",
    "\n",
    "N_i = np.random.choice(n, size=n_i)  # Randomly select n_i informed nodes\n",
    "N = np.zeros(n, dtype=bool)  # Set of n nodes, initialized to False (uninformed)\n",
    "N[N_i] = True  # Set informed node indices to True (informed)\n",
    "\n",
    "G = nx.path_graph(n)  # Generate line graph from the nodes in N\n",
    "\n",
    "attribute_dict = {}  # generate dictionary to add informed status as attribute to each node\n",
    "for node in G.nodes:\n",
    "    attribute_dict[node] = {'informed': N[node], 'xi': np.random.randn(1)}  \n",
    "    \n",
    "nx.set_node_attributes(G, attribute_dict)  # set attributes for each node"
   ]
  },
  {
   "cell_type": "code",
   "execution_count": 3,
   "id": "31c52828-888b-4b28-9712-6d743dd953ae",
   "metadata": {},
   "outputs": [
    {
     "data": {
      "image/png": "[encoded data removed]",
      "text/plain": [
       "<Figure size 432x288 with 1 Axes>"
      ]
     },
     "metadata": {},
     "output_type": "display_data"
    }
   ],
   "source": [
    "nx.draw_spectral(G)"
   ]
  },
  {
   "cell_type": "markdown",
   "id": "e7aae8bd-3522-4e13-8e47-0fff2cb2efcc",
   "metadata": {},
   "source": [
    "# Problem Parameters"
   ]
  },
  {
   "cell_type": "code",
   "execution_count": 4,
   "id": "87a49b7e-a42f-4e80-be27-0e4a612f169f",
   "metadata": {},
   "outputs": [
    {
     "name": "stdout",
     "output_type": "stream",
     "text": [
      "[[-0.86752071 -0.10112483 -0.17283923 ... -0.10738393  0.01099571\n",
      "   0.0769002 ]\n",
      " [-0.04244644 -0.86881981 -0.06105109 ... -0.14896225 -0.03277008\n",
      "  -0.10080709]\n",
      " [ 0.21587474  0.07724019 -1.0170114  ...  0.03465825  0.01651364\n",
      "   0.13084626]\n",
      " ...\n",
      " [ 0.07757992  0.00251736 -0.06797485 ... -1.10190278  0.02296526\n",
      "  -0.11409735]\n",
      " [ 0.03712261 -0.01911717 -0.1853917  ... -0.10282936 -0.85270802\n",
      "   0.05416709]\n",
      " [-0.07801168 -0.01633067  0.09874479 ... -0.0874907  -0.13828482\n",
      "  -1.01247298]]\n"
     ]
    }
   ],
   "source": [
    "theta_0 = (1/(n+3))*np.ones((n,n))-np.eye(n)\n",
    "theta = theta_0 + 0.1*np.random.randn(n,n)\n",
    "print(theta)\n",
    "xi = n"
   ]
  },
  {
   "cell_type": "markdown",
   "id": "afb0e858-cd31-4697-959c-9fc97e9c6024",
   "metadata": {},
   "source": [
    "# Loss and Gradient Oracles"
   ]
  },
  {
   "cell_type": "code",
   "execution_count": 5,
   "id": "44261519-d295-4069-aca9-0906dfbb4b14",
   "metadata": {},
   "outputs": [],
   "source": [
    "def demand(x,theta,xi):  # calculate demand\n",
    "    return np.dot(theta,x) + xi\n",
    "\n",
    "def revenue(x,theta,xi):  # calculate revenue\n",
    "    return x*demand(x,theta,xi)\n",
    "\n",
    "def total_revenue(x,theta,xi):  # calculate social revenue\n",
    "    return np.sum(revenue(x,theta,xi))\n",
    "\n",
    "def grad_revenue(x,theta,xi):  # gradients wrt individual revenues\n",
    "    return 2*np.dot(theta,x) + xi"
   ]
  },
  {
   "cell_type": "markdown",
   "id": "898df06e-af79-44a5-89a3-92d325ae87c3",
   "metadata": {},
   "source": [
    "# Centralized GD"
   ]
  },
  {
   "cell_type": "code",
   "execution_count": 6,
   "id": "20482521-b2fa-4b14-8099-b1c91c1a7a10",
   "metadata": {},
   "outputs": [
    {
     "name": "stderr",
     "output_type": "stream",
     "text": [
      "100%|█████████████████████████████████████| 2000/2000 [00:00<00:00, 3096.21it/s]\n"
     ]
    },
    {
     "data": {
      "image/png": "[encoded data removed]",
      "text/plain": [
       "<Figure size 432x288 with 1 Axes>"
      ]
     },
     "metadata": {
      "needs_background": "light"
     },
     "output_type": "display_data"
    },
    {
     "name": "stdout",
     "output_type": "stream",
     "text": [
      "[ 82.80134926   0.         100.         100.         100.\n",
      "   0.         100.         100.         100.         100.\n",
      "  59.17294994 100.         100.         100.          86.92303518\n",
      " 100.         100.         100.          93.31481832 100.\n",
      " 100.          34.84051398 100.         100.           0.\n",
      " 100.         100.         100.         100.         100.\n",
      "  17.12385535   0.         100.         100.         100.\n",
      "  42.33708533 100.         100.          94.77547532  11.99687901\n",
      "  95.49021868   1.92553389   0.           9.96045756 100.\n",
      " 100.          12.2384154  100.         100.         100.\n",
      " 100.         100.         100.         100.          80.05222413\n",
      " 100.         100.         100.          74.34876433 100.\n",
      " 100.         100.          49.756407   100.         100.\n",
      " 100.         100.         100.           0.         100.\n",
      "  57.86681878 100.          43.2144397   39.48227165 100.\n",
      " 100.           0.          94.43421311 100.         100.\n",
      " 100.          12.24349992 100.          38.76007136 100.\n",
      " 100.         100.          76.03468491  39.28246152 100.\n",
      " 100.         100.          76.55304985 100.          41.40055598\n",
      "   0.         100.         100.         100.          62.3804505 ]\n"
     ]
    }
   ],
   "source": [
    "x = np.random.rand(n)  # Initialize prices\n",
    "step = 1e-2  # Step size\n",
    "p_max = n  # Set maximum price\n",
    "rev = []\n",
    "x_hist = []\n",
    "iterations = 2000\n",
    "\n",
    "# Run centralized GD\n",
    "for i in trange(iterations):\n",
    "    xi = n+np.random.randn(1)\n",
    "    rev.append(total_revenue(x,theta,xi))\n",
    "    x_hist.append(x.copy())\n",
    "    x += step*grad_revenue(x,theta,xi)\n",
    "    x = np.clip(x,0,p_max)\n",
    "    \n",
    "plt.figure()\n",
    "plt.plot(rev)\n",
    "plt.grid()\n",
    "plt.title('Centralized SGD')\n",
    "plt.xlabel('Iterations')\n",
    "plt.ylabel('Total Revenue')\n",
    "plt.tight_layout()\n",
    "plt.savefig('./figures/central_sgd.png')\n",
    "plt.show()\n",
    "\n",
    "print(x)"
   ]
  },
  {
   "cell_type": "code",
   "execution_count": 7,
   "id": "ae169aed-d053-4787-ac5c-87b83c5d0909",
   "metadata": {},
   "outputs": [],
   "source": [
    "if n==2:\n",
    "    x_hist = np.array(x_hist)\n",
    "    plt.figure()\n",
    "    plt.plot(x_hist[:,0],x_hist[:,1],'-o')\n",
    "    plt.scatter(x_hist[-1,0],x_hist[-1,1],c='k',zorder=10)\n",
    "    plt.grid()\n",
    "    plt.show()"
   ]
  },
  {
   "cell_type": "markdown",
   "id": "c629e3c9-e317-40c0-a971-0d77d58e6c0b",
   "metadata": {},
   "source": [
    "# Distributed SGD with synchronous information"
   ]
  },
  {
   "cell_type": "code",
   "execution_count": 8,
   "id": "fba447ed-8404-4f8f-8081-509a438731ea",
   "metadata": {},
   "outputs": [
    {
     "name": "stderr",
     "output_type": "stream",
     "text": [
      "<class 'networkx.utils.decorators.argmap'> compilation 12:4: FutureWarning: laplacian_matrix will return a scipy.sparse array instead of a matrix in Networkx 3.0.\n",
      "100%|███████████████████████████████████████| 2000/2000 [00:56<00:00, 35.33it/s]\n"
     ]
    },
    {
     "data": {
      "image/png": "[encoded data removed]",
      "text/plain": [
       "<Figure size 432x288 with 1 Axes>"
      ]
     },
     "metadata": {
      "needs_background": "light"
     },
     "output_type": "display_data"
    },
    {
     "name": "stdout",
     "output_type": "stream",
     "text": [
      "[ 82.80138045   0.         100.         100.         100.\n",
      "   0.         100.         100.         100.         100.\n",
      "  59.1712358  100.         100.         100.          86.90680186\n",
      " 100.         100.         100.          93.30966994 100.\n",
      " 100.          34.82238928 100.         100.           0.\n",
      " 100.         100.         100.         100.         100.\n",
      "  17.1174224    0.         100.         100.         100.\n",
      "  42.33791192 100.         100.          94.7633422   11.98506642\n",
      "  95.48576878   1.91636036   0.           9.95079197 100.\n",
      " 100.          12.21291949 100.         100.         100.\n",
      " 100.         100.         100.         100.          80.03814426\n",
      " 100.         100.         100.          74.33627998 100.\n",
      " 100.         100.          49.73551449 100.         100.\n",
      " 100.         100.         100.           0.         100.\n",
      "  57.85968109 100.          43.19689677  39.47375037 100.\n",
      " 100.           0.          94.42819356 100.         100.\n",
      " 100.          12.22988788 100.          38.7653621  100.\n",
      " 100.         100.          76.02962773  39.2685486  100.\n",
      " 100.         100.          76.56157622 100.          41.38712472\n",
      "   0.         100.         100.         100.          62.37425259]\n"
     ]
    }
   ],
   "source": [
    "P = nx.laplacian_matrix(G).toarray()\n",
    "P = np.eye(n) - (1/(1+np.max(np.diagonal(P))))*P  # Define doubly stochastic mixing matrix from Laplacian\n",
    "\n",
    "X = np.random.rand(n,n)\n",
    "\n",
    "step = 1e-2  # Step size\n",
    "p_max = n  # Set maximum price\n",
    "rev_cent = []\n",
    "x_hist = []\n",
    "iterations = 2000\n",
    "\n",
    "for i in trange(iterations):\n",
    "    xi = n+np.random.randn(1)\n",
    "    x_hist.append(X.copy().T)\n",
    "    X = np.dot(P,X)\n",
    "    temp = []\n",
    "    for j in range(n):\n",
    "        X[j] += step*grad_revenue(X[j],theta,xi)\n",
    "        temp.append(total_revenue(X[j],theta,xi))\n",
    "    rev_cent.append(sum(temp)/len(temp))\n",
    "    X = np.clip(X,0,p_max)\n",
    "    \n",
    "plt.figure()\n",
    "plt.plot(rev_cent)\n",
    "plt.grid()\n",
    "plt.title('Distributed Synchronous SGD')\n",
    "plt.xlabel('Iterations')\n",
    "plt.ylabel('Total Revenue')\n",
    "plt.tight_layout()\n",
    "plt.savefig('./figures/dist_sgd_sync.png')\n",
    "plt.show()\n",
    "\n",
    "print(np.mean(X,axis=0))"
   ]
  },
  {
   "cell_type": "code",
   "execution_count": 9,
   "id": "0721cef6-0fd0-4789-b8eb-66f864f44579",
   "metadata": {},
   "outputs": [],
   "source": [
    "if n==2:\n",
    "    x_hist = np.array(x_hist)\n",
    "    plt.figure()\n",
    "    plt.plot(x_hist[:,0],x_hist[:,1],'-o')\n",
    "    plt.scatter(x_hist[-1,0],x_hist[-1,1],c='k',zorder=10)\n",
    "    plt.grid()\n",
    "    plt.show()"
   ]
  },
  {
   "cell_type": "code",
   "execution_count": 10,
   "id": "50051a4e-d6e3-4337-b544-d4932d40df9f",
   "metadata": {},
   "outputs": [
    {
     "name": "stdout",
     "output_type": "stream",
     "text": [
      "error = 0.0037797893731988767\n"
     ]
    }
   ],
   "source": [
    "print(f'error = {la.norm(x-np.mean(X,axis=0))**2}')"
   ]
  },
  {
   "cell_type": "markdown",
   "id": "59c6d691-d0c1-4f3d-9e87-39345da1b1e3",
   "metadata": {},
   "source": [
    "# Distributed SGD with asynchronous information"
   ]
  },
  {
   "cell_type": "code",
   "execution_count": 11,
   "id": "b6c599ae-e880-4cb6-9c34-0e77813eb636",
   "metadata": {},
   "outputs": [
    {
     "name": "stderr",
     "output_type": "stream",
     "text": [
      "100%|███████████████████████████████████████| 2000/2000 [01:03<00:00, 31.61it/s]\n"
     ]
    },
    {
     "data": {
      "image/png": "[encoded data removed]",
      "text/plain": [
       "<Figure size 432x288 with 1 Axes>"
      ]
     },
     "metadata": {
      "needs_background": "light"
     },
     "output_type": "display_data"
    },
    {
     "name": "stdout",
     "output_type": "stream",
     "text": [
      "[ 82.87229013   0.         100.         100.         100.\n",
      "   0.         100.         100.         100.         100.\n",
      "  59.24257207 100.         100.         100.          86.9455078\n",
      " 100.         100.         100.          93.37287837 100.\n",
      " 100.          34.85822422 100.         100.           0.\n",
      " 100.         100.         100.         100.         100.\n",
      "  17.16645512   0.         100.         100.         100.\n",
      "  42.42104279 100.         100.          94.81872516  12.03367307\n",
      "  95.55866772   1.97096275   0.          10.00679118 100.\n",
      " 100.          12.24839783 100.         100.         100.\n",
      " 100.         100.         100.         100.          80.10046873\n",
      " 100.         100.         100.          74.39435732 100.\n",
      " 100.         100.          49.77888736 100.         100.\n",
      " 100.         100.         100.           0.         100.\n",
      "  57.92278362 100.          43.23869149  39.53813751 100.\n",
      " 100.           0.          94.50159353 100.         100.\n",
      " 100.          12.27935363 100.          38.85835309 100.\n",
      " 100.         100.          76.09431647  39.32154595 100.\n",
      " 100.         100.          76.65635875 100.          41.43291025\n",
      "   0.         100.         100.         100.          62.42808676]\n"
     ]
    }
   ],
   "source": [
    "P = nx.laplacian_matrix(G).toarray()\n",
    "P = np.eye(n) - (1/(1+np.max(np.diagonal(P))))*P  # Define doubly stochastic mixing matrix from Laplacian\n",
    "\n",
    "X = np.random.rand(n,n)\n",
    "\n",
    "step = 1e-2  # Step size\n",
    "p_max = n  # Set maximum price\n",
    "rev_dist = []\n",
    "x_dist_hist = []\n",
    "iterations = 2000\n",
    "\n",
    "for i in trange(iterations):\n",
    "    xi = n+np.random.randn(1)\n",
    "    for node in range(n):\n",
    "        if G.nodes[node]['informed']:\n",
    "            G.nodes[node]['xi'] = xi\n",
    "        else:\n",
    "            xi_lst = []\n",
    "            for neig in G.neighbors(node):\n",
    "                xi_lst.append(G.nodes[neig]['xi'])\n",
    "            G.nodes[node]['xi'] = sum(xi_lst)/len(xi_lst)\n",
    "    x_dist_hist.append(X.copy().T)\n",
    "    X = np.dot(P,X)\n",
    "    temp = []\n",
    "    for j in range(n):\n",
    "        xi_j = G.nodes[j]['xi']\n",
    "        X[j] += step*grad_revenue(X[j],theta,xi_j)\n",
    "        temp.append(total_revenue(X[j],theta,xi_j))\n",
    "    rev_dist.append(sum(temp)/len(temp))\n",
    "    X = np.clip(X,0,p_max)\n",
    "    \n",
    "plt.figure()\n",
    "plt.plot(rev_dist)\n",
    "plt.grid()\n",
    "plt.title('Distributed Asynchronous SGD')\n",
    "plt.xlabel('Iterations')\n",
    "plt.ylabel('Total Revenue')\n",
    "plt.tight_layout()\n",
    "plt.savefig('./figures/dist_sgd_async.png')\n",
    "plt.show()\n",
    "\n",
    "print(np.mean(X,axis=0))"
   ]
  },
  {
   "cell_type": "code",
   "execution_count": 12,
   "id": "c6ef2cca-6517-448c-92e4-e9244e340db9",
   "metadata": {},
   "outputs": [
    {
     "name": "stdout",
     "output_type": "stream",
     "text": [
      "error = 0.08146294364536782\n"
     ]
    }
   ],
   "source": [
    "print(f'error = {la.norm(x-np.mean(X,axis=0))**2}')"
   ]
  },
  {
   "cell_type": "markdown",
   "id": "a6831b9c-476e-413a-ab2c-725d09a12ddd",
   "metadata": {},
   "source": [
    "# Fully connected graph"
   ]
  },
  {
   "cell_type": "code",
   "execution_count": 13,
   "id": "8bfa2ec8-fa53-4cd4-933b-d3691f429349",
   "metadata": {},
   "outputs": [
    {
     "name": "stderr",
     "output_type": "stream",
     "text": [
      "100%|███████████████████████████████████████| 2000/2000 [01:04<00:00, 31.22it/s]\n"
     ]
    },
    {
     "data": {
      "image/png": "[encoded data removed]",
      "text/plain": [
       "<Figure size 432x288 with 1 Axes>"
      ]
     },
     "metadata": {
      "needs_background": "light"
     },
     "output_type": "display_data"
    },
    {
     "name": "stdout",
     "output_type": "stream",
     "text": [
      "[ 82.91568609   0.         100.         100.         100.\n",
      "   0.         100.         100.         100.         100.\n",
      "  59.28218985 100.         100.         100.          86.94020692\n",
      " 100.         100.         100.          93.40605839 100.\n",
      " 100.          34.84372529 100.         100.           0.\n",
      " 100.         100.         100.         100.         100.\n",
      "  17.20238971   0.         100.         100.         100.\n",
      "  42.46409163 100.         100.          94.818194    12.04562524\n",
      "  95.60235309   1.98283678   0.          10.0330266  100.\n",
      " 100.          12.20112921 100.         100.         100.\n",
      " 100.         100.         100.         100.          80.09666871\n",
      " 100.         100.         100.          74.3821734  100.\n",
      " 100.         100.          49.74473681 100.         100.\n",
      " 100.         100.         100.           0.         100.\n",
      "  57.94321678 100.          43.21456571  39.55749583 100.\n",
      " 100.           0.          94.51370917 100.         100.\n",
      " 100.          12.26433854 100.          38.90799891 100.\n",
      " 100.         100.          76.12362542  39.3198289  100.\n",
      " 100.         100.          76.72318254 100.          41.43067252\n",
      "   0.         100.         100.         100.          62.44980542]\n"
     ]
    }
   ],
   "source": [
    "n = 100  # Number of nodes\n",
    "n_i = 5  # Number of informed nodes\n",
    "\n",
    "N_i = np.random.choice(n, size=n_i)  # Randomly select n_i informed nodes\n",
    "N = np.zeros(n, dtype=bool)  # Set of n nodes, initialized to False (uninformed)\n",
    "N[N_i] = True  # Set informed node indices to True (informed)\n",
    "\n",
    "G = nx.erdos_renyi_graph(n,0.2)  # Generate line graph from the nodes in N\n",
    "\n",
    "attribute_dict = {}  # generate dictionary to add informed status as attribute to each node\n",
    "for node in G.nodes:\n",
    "    attribute_dict[node] = {'informed': N[node], 'xi': np.random.randn(1)}  \n",
    "    \n",
    "nx.set_node_attributes(G, attribute_dict)  # set attributes for each node\n",
    "\n",
    "P = nx.laplacian_matrix(G).toarray()\n",
    "P = np.eye(n) - (1/(1+np.max(np.diagonal(P))))*P  # Define doubly stochastic mixing matrix from Laplacian\n",
    "\n",
    "X = np.random.rand(n,n)\n",
    "\n",
    "step = 1e-2  # Step size\n",
    "p_max = n  # Set maximum price\n",
    "rev_dist = []\n",
    "x_dist_hist = []\n",
    "iterations = 2000\n",
    "\n",
    "for i in trange(iterations):\n",
    "    xi = n+np.random.randn(1)\n",
    "    for node in range(n):\n",
    "        if G.nodes[node]['informed']:\n",
    "            G.nodes[node]['xi'] = xi\n",
    "        else:\n",
    "            xi_lst = []\n",
    "            for neig in G.neighbors(node):\n",
    "                xi_lst.append(G.nodes[neig]['xi'])\n",
    "            G.nodes[node]['xi'] = sum(xi_lst)/len(xi_lst)\n",
    "    x_dist_hist.append(X.copy().T)\n",
    "    X = np.dot(P,X)\n",
    "    temp = []\n",
    "    for j in range(n):\n",
    "        xi_j = G.nodes[j]['xi']\n",
    "        X[j] += step*grad_revenue(X[j],theta,xi_j)\n",
    "        temp.append(total_revenue(X[j],theta,xi_j))\n",
    "    rev_dist.append(sum(temp)/len(temp))\n",
    "    X = np.clip(X,0,p_max)\n",
    "    \n",
    "plt.figure()\n",
    "plt.plot(rev_dist)\n",
    "plt.grid()\n",
    "plt.title('Distributed Asynchronous SGD Fully Connected Network')\n",
    "plt.xlabel('Iterations')\n",
    "plt.ylabel('Total Revenue')\n",
    "plt.tight_layout()\n",
    "plt.savefig('./figures/dist_sgd_fc.png')\n",
    "plt.show()\n",
    "\n",
    "print(np.mean(X,axis=0))"
   ]
  },
  {
   "cell_type": "code",
   "execution_count": 14,
   "id": "e3f26e18-715d-476f-bac4-7ac489593a4b",
   "metadata": {},
   "outputs": [
    {
     "name": "stdout",
     "output_type": "stream",
     "text": [
      "error = 0.16997823483962918\n"
     ]
    }
   ],
   "source": [
    "print(f'error = {la.norm(x-np.mean(X,axis=0))**2}')"
   ]
  },
  {
   "cell_type": "markdown",
   "id": "4e5396fe-ee56-4bdd-82b2-b0a4d3c70c81",
   "metadata": {},
   "source": [
    "# Erdos Renyi random graph p=0.2"
   ]
  },
  {
   "cell_type": "code",
   "execution_count": 15,
   "id": "48059232-2923-4e95-8649-db3914a0467d",
   "metadata": {},
   "outputs": [
    {
     "name": "stderr",
     "output_type": "stream",
     "text": [
      "100%|███████████████████████████████████████| 2000/2000 [01:07<00:00, 29.64it/s]\n"
     ]
    },
    {
     "data": {
      "image/png": "[encoded data removed]",
      "text/plain": [
       "<Figure size 432x288 with 1 Axes>"
      ]
     },
     "metadata": {
      "needs_background": "light"
     },
     "output_type": "display_data"
    },
    {
     "name": "stdout",
     "output_type": "stream",
     "text": [
      "[ 82.78597939   0.         100.         100.         100.\n",
      "   0.         100.         100.         100.         100.\n",
      "  59.16161002 100.         100.         100.          86.93637028\n",
      " 100.         100.         100.          93.30420005 100.\n",
      " 100.          34.86041706 100.         100.           0.\n",
      " 100.         100.         100.         100.         100.\n",
      "  17.10546639   0.         100.         100.         100.\n",
      "  42.32763725 100.         100.          94.79144932  11.99885489\n",
      "  95.47477512   1.93065431   0.           9.95261651 100.\n",
      " 100.          12.28674044 100.         100.         100.\n",
      " 100.         100.         100.         100.          80.07438164\n",
      " 100.         100.         100.          74.37675966 100.\n",
      " 100.         100.          49.79631688 100.         100.\n",
      " 100.         100.         100.           0.         100.\n",
      "  57.86772002 100.          43.24591766  39.48507596 100.\n",
      " 100.           0.          94.44741632 100.         100.\n",
      " 100.          12.27023925 100.          38.74912024 100.\n",
      " 100.         100.          76.02922381  39.29805998 100.\n",
      " 100.         100.          76.52768938 100.          41.41419665\n",
      "   0.         100.         100.         100.          62.3764706 ]\n"
     ]
    }
   ],
   "source": [
    "P = nx.laplacian_matrix(G).toarray()\n",
    "P = np.eye(n) - (1/(1+np.max(np.diagonal(P))))*P  # Define doubly stochastic mixing matrix from Laplacian\n",
    "\n",
    "X = np.random.rand(n,n)\n",
    "\n",
    "step = 1e-2  # Step size\n",
    "p_max = n  # Set maximum price\n",
    "rev_dist = []\n",
    "x_dist_hist = []\n",
    "iterations = 2000\n",
    "\n",
    "for i in trange(iterations):\n",
    "    xi = n+np.random.randn(1)\n",
    "    for node in range(n):\n",
    "        if G.nodes[node]['informed']:\n",
    "            G.nodes[node]['xi'] = xi\n",
    "        else:\n",
    "            xi_lst = []\n",
    "            for neig in G.neighbors(node):\n",
    "                xi_lst.append(G.nodes[neig]['xi'])\n",
    "            G.nodes[node]['xi'] = sum(xi_lst)/len(xi_lst)\n",
    "    x_dist_hist.append(X.copy().T)\n",
    "    X = np.dot(P,X)\n",
    "    temp = []\n",
    "    for j in range(n):\n",
    "        xi_j = G.nodes[j]['xi']\n",
    "        X[j] += step*grad_revenue(X[j],theta,xi_j)\n",
    "        temp.append(total_revenue(X[j],theta,xi_j))\n",
    "    rev_dist.append(sum(temp)/len(temp))\n",
    "    X = np.clip(X,0,p_max)\n",
    "    \n",
    "plt.figure()\n",
    "plt.plot(rev_dist)\n",
    "plt.grid()\n",
    "plt.title('Distributed Asynchronous SGD Random Expander Graph')\n",
    "plt.xlabel('Iterations')\n",
    "plt.ylabel('Total Revenue')\n",
    "plt.tight_layout()\n",
    "plt.savefig('./figures/dist_sgd_expander.png')\n",
    "plt.show()\n",
    "\n",
    "print(np.mean(X,axis=0))"
   ]
  },
  {
   "cell_type": "code",
   "execution_count": 16,
   "id": "b7eec6d5-8c8c-4d16-b8e2-d9ee0eeba42a",
   "metadata": {},
   "outputs": [
    {
     "name": "stdout",
     "output_type": "stream",
     "text": [
      "error = 0.010394008942123072\n"
     ]
    }
   ],
   "source": [
    "print(f'error = {la.norm(x-np.mean(X,axis=0))**2}')"
   ]
  }
 ],
 "metadata": {
  "kernelspec": {
   "display_name": "Python 3 (ipykernel)",
   "language": "python",
   "name": "python3"
  },
  "language_info": {
   "codemirror_mode": {
    "name": "ipython",
    "version": 3
   },
   "file_extension": ".py",
   "mimetype": "text/x-python",
   "name": "python",
   "nbconvert_exporter": "python",
   "pygments_lexer": "ipython3",
   "version": "3.9.10"
  }
 },
 "nbformat": 4,
 "nbformat_minor": 5
}
