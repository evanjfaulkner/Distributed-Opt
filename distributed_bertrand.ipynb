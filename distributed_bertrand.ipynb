{
 "cells": [
  {
   "cell_type": "code",
   "execution_count": 1,
   "id": "f52fc6c6-98a4-4a82-93e1-fc0621613799",
   "metadata": {},
   "outputs": [],
   "source": [
    "import numpy as np\n",
    "import numpy.linalg as la\n",
    "import matplotlib.pyplot as plt\n",
    "import networkx as nx\n",
    "import math\n",
    "from tqdm import tqdm, trange"
   ]
  },
  {
   "cell_type": "markdown",
   "id": "716dfe22-739b-4425-9164-bd01760f7e91",
   "metadata": {},
   "source": [
    "# Networked Distributed Optimization with Exogenous Inputs\n",
    "Consider an $n$-player network game defined on graph structure $\\mathcal{G}=(\\mathcal{N},\\mathcal{E})$, where $\\mathcal{N}=\\{1,\\ldots,n\\}$ are the nodes in the graph---one corresponding to each player---and $$\\mathcal{E}=\\{(i,j)|\\ i,j\\in \\mathcal{N} \\ \\text{such that}\\ i\\  \\text{is connected to } j\\},$$\n",
    "is the set of edges.\n",
    "\n",
    "Each player $i\\in \\mathcal{N}$ collects data and has objective $F_i(x, \\xi_i, \\xi)$ where $\\xi_i\\in \\Xi_i$ is a random variable with fixed but unknown probability distribution with domain $\\Xi_i$ and similarly, $\\xi$ is a random variable with fixed but unknown probability distribution with domain $\\Xi$. The random variable $\\xi_i$ models local environmental fluctuations such as noise. The random variable $\\xi$, on the other hand, models a global information state.\n",
    "\n",
    "In this simulation, we consider a simple Bertrand competition where the players cooperatively seek the social optimum. Each individual has a demand function $D_i(x_i,x_{-i},\\xi)$ which is a nonincreasing function of the prices $x_i$ and $x_{-i}$. Each player obtains a revenue $F_i$ where\n",
    "$$F_i(x_i,x_{-i},\\xi) = x_i\\cdot D_i(x_i,x_{-i},\\xi).$$\n",
    "\n",
    "Here, we consider a linear demand function where $\\xi$ determines the base demand and the price elasticities with respect to each price $x_i$ are given by a vector $\\theta\\in\\mathbb{R}^n$:\n",
    "$$D_i(x_i,x_{-i},\\xi) = \\xi + \\theta^\\top x$$"
   ]
  },
  {
   "cell_type": "markdown",
   "id": "5279a755-060e-4790-ba27-5668d1af9561",
   "metadata": {},
   "source": [
    "# Generate Communication Network"
   ]
  },
  {
   "cell_type": "code",
   "execution_count": 2,
   "id": "524abf3f-3f68-496f-98ec-6e035190a50b",
   "metadata": {},
   "outputs": [],
   "source": [
    "n = 10  # Number of nodes\n",
    "n_i = 10  # Number of informed nodes\n",
    "\n",
    "N_i = np.random.choice(n, size=n_i)  # Randomly select n_i informed nodes\n",
    "N = np.zeros(n, dtype=bool)  # Set of n nodes, initialized to False (uninformed)\n",
    "N[N_i] = True  # Set informed node indices to True (informed)\n",
    "\n",
    "G = nx.path_graph(n)  # Generate line graph from the nodes in N\n",
    "\n",
    "informed_dict = {}  # generate dictionary to add informed status as attribute to each node\n",
    "for node in G.nodes:\n",
    "    informed_dict[node] = {'informed': N[node]}  \n",
    "    \n",
    "nx.set_node_attributes(G, informed_dict)  # set attributes for each node"
   ]
  },
  {
   "cell_type": "code",
   "execution_count": 3,
   "id": "31c52828-888b-4b28-9712-6d743dd953ae",
   "metadata": {},
   "outputs": [
    {
     "data": {
      "image/png": "[encoded data removed]",
      "text/plain": [
       "<Figure size 432x288 with 1 Axes>"
      ]
     },
     "metadata": {},
     "output_type": "display_data"
    }
   ],
   "source": [
    "nx.draw_spectral(G)"
   ]
  },
  {
   "cell_type": "markdown",
   "id": "e7aae8bd-3522-4e13-8e47-0fff2cb2efcc",
   "metadata": {},
   "source": [
    "# Problem Parameters"
   ]
  },
  {
   "cell_type": "code",
   "execution_count": 4,
   "id": "87a49b7e-a42f-4e80-be27-0e4a612f169f",
   "metadata": {},
   "outputs": [
    {
     "name": "stdout",
     "output_type": "stream",
     "text": [
      "[[ -9.9553641    0.89361035   0.79861576   0.84623195   0.97165595\n",
      "    0.90994      0.95491553   0.86738777   0.80604829   0.88166184]\n",
      " [  0.97219072  -9.99349439   1.10586811   0.90197565   1.08293532\n",
      "    1.18985195   0.96998853   1.11109715   0.94724034   0.98297602]\n",
      " [  0.98102865   0.95601207 -10.13190195   1.0739758    0.9369119\n",
      "    0.95486012   1.1741362    0.99910026   1.02666818   1.01739512]\n",
      " [  1.20049947   1.01336023   1.00245884 -10.14196787   0.89922981\n",
      "    1.07022229   1.21436886   1.0693985    0.97724118   1.08401239]\n",
      " [  1.16997801   1.04354962   1.09257641   0.95357597 -10.04713832\n",
      "    0.90497337   1.33521136   0.91604163   0.93417946   0.90965737]\n",
      " [  0.99183471   0.96878206   0.93656033   1.04030925   1.02830884\n",
      "  -10.05128954   1.00830644   1.00787151   1.12702915   1.00866644]\n",
      " [  0.97463807   1.12986911   0.97816102   0.95383707   0.88180075\n",
      "    1.18073556  -9.84127186   1.11221995   0.96031554   0.81126031]\n",
      " [  1.00582102   1.11484114   1.0576792    1.05134751   0.96040464\n",
      "    1.19782175   0.98391669 -10.07590837   0.96827008   0.83429195]\n",
      " [  1.12072379   1.20480382   0.99075017   0.97854788   0.95028466\n",
      "    1.14302394   0.95171847   0.91090726 -10.15351984   0.92875971]\n",
      " [  1.03264099   0.87124578   0.87708564   1.1587028    1.06098016\n",
      "    1.10445483   1.11549016   0.89382541   1.07351423 -10.01735117]]\n"
     ]
    }
   ],
   "source": [
    "theta_0 = np.ones((n,n))-(n+1)*np.eye(n)\n",
    "theta = theta_0 + 0.1*np.random.randn(n,n)\n",
    "print(theta)\n",
    "xi = n"
   ]
  },
  {
   "cell_type": "markdown",
   "id": "afb0e858-cd31-4697-959c-9fc97e9c6024",
   "metadata": {},
   "source": [
    "# Loss and Gradient Oracles"
   ]
  },
  {
   "cell_type": "code",
   "execution_count": 5,
   "id": "44261519-d295-4069-aca9-0906dfbb4b14",
   "metadata": {},
   "outputs": [],
   "source": [
    "def demand(x,theta,xi):  # calculate demand\n",
    "    return np.dot(theta,x) + xi\n",
    "\n",
    "def revenue(x,theta,xi):  # calculate revenue\n",
    "    return x*demand(x,theta,xi)\n",
    "\n",
    "def total_revenue(x,theta,xi):  # calculate social revenue\n",
    "    return np.sum(revenue(x,theta,xi))\n",
    "\n",
    "def grad_revenue(x,theta,xi):\n",
    "    return 2*np.dot(theta,x) + xi\n",
    "\n",
    "def grad_total_revenue(x,theta,xi):\n",
    "    return "
   ]
  },
  {
   "cell_type": "markdown",
   "id": "898df06e-af79-44a5-89a3-92d325ae87c3",
   "metadata": {},
   "source": [
    "# Centralized GD"
   ]
  },
  {
   "cell_type": "code",
   "execution_count": 6,
   "id": "20482521-b2fa-4b14-8099-b1c91c1a7a10",
   "metadata": {},
   "outputs": [
    {
     "name": "stderr",
     "output_type": "stream",
     "text": [
      "100%|████████████████████████████████████| 1000/1000 [00:00<00:00, 49331.40it/s]\n"
     ]
    },
    {
     "data": {
      "image/png": "[encoded data removed]",
      "text/plain": [
       "<Figure size 432x288 with 1 Axes>"
      ]
     },
     "metadata": {
      "needs_background": "light"
     },
     "output_type": "display_data"
    },
    {
     "name": "stdout",
     "output_type": "stream",
     "text": [
      "[4.64866014 5.26263165 5.13175284 5.30733678 5.22700011 5.16714609\n",
      " 5.20276832 5.18161608 5.14272725 5.21540725]\n"
     ]
    }
   ],
   "source": [
    "x = np.random.rand(n)  # Initialize prices\n",
    "step = 1e-2  # Step size\n",
    "p_max = 10  # Set maximum price\n",
    "rev = []\n",
    "x_hist = []\n",
    "iterations = 1000\n",
    "\n",
    "# Run centralized GD\n",
    "for i in trange(iterations):\n",
    "    rev.append(total_revenue(x,theta,xi))\n",
    "    x_hist.append(x.copy())\n",
    "    x += step*grad_revenue(x,theta,xi)\n",
    "    x = np.clip(x,0,p_max)\n",
    "    \n",
    "    \n",
    "plt.figure()\n",
    "plt.plot(rev)\n",
    "plt.grid()\n",
    "plt.show()\n",
    "\n",
    "print(x)"
   ]
  },
  {
   "cell_type": "code",
   "execution_count": 7,
   "id": "ae169aed-d053-4787-ac5c-87b83c5d0909",
   "metadata": {},
   "outputs": [],
   "source": [
    "if n==2:\n",
    "    x_hist = np.array(x_hist)\n",
    "    plt.figure()\n",
    "    plt.plot(x_hist[:,0],x_hist[:,1],'-o')\n",
    "    plt.scatter(x_hist[-1,0],x_hist[-1,1],c='k',zorder=10)\n",
    "    plt.grid()\n",
    "    plt.show()"
   ]
  },
  {
   "cell_type": "markdown",
   "id": "c629e3c9-e317-40c0-a971-0d77d58e6c0b",
   "metadata": {},
   "source": [
    "# Distributed SGD with synchronous information"
   ]
  },
  {
   "cell_type": "code",
   "execution_count": null,
   "id": "fba447ed-8404-4f8f-8081-509a438731ea",
   "metadata": {},
   "outputs": [],
   "source": []
  }
 ],
 "metadata": {
  "kernelspec": {
   "display_name": "Python 3 (ipykernel)",
   "language": "python",
   "name": "python3"
  },
  "language_info": {
   "codemirror_mode": {
    "name": "ipython",
    "version": 3
   },
   "file_extension": ".py",
   "mimetype": "text/x-python",
   "name": "python",
   "nbconvert_exporter": "python",
   "pygments_lexer": "ipython3",
   "version": "3.9.10"
  }
 },
 "nbformat": 4,
 "nbformat_minor": 5
}
