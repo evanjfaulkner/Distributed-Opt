{
 "cells": [
  {
   "cell_type": "code",
   "execution_count": 1,
   "id": "f52fc6c6-98a4-4a82-93e1-fc0621613799",
   "metadata": {},
   "outputs": [],
   "source": [
    "import numpy as np\n",
    "import numpy.linalg as la\n",
    "import matplotlib.pyplot as plt\n",
    "import networkx as nx\n",
    "import math\n",
    "from tqdm import tqdm, trange"
   ]
  },
  {
   "cell_type": "markdown",
   "id": "716dfe22-739b-4425-9164-bd01760f7e91",
   "metadata": {},
   "source": [
    "# Networked Distributed Optimization with Exogenous Inputs\n",
    "Consider an $n$-player network game defined on graph structure $\\mathcal{G}=(\\mathcal{N},\\mathcal{E})$, where $\\mathcal{N}=\\{1,\\ldots,n\\}$ are the nodes in the graph---one corresponding to each player---and $$\\mathcal{E}=\\{(i,j)|\\ i,j\\in \\mathcal{N} \\ \\text{such that}\\ i\\  \\text{is connected to } j\\},$$\n",
    "is the set of edges.\n",
    "\n",
    "Each player $i\\in \\mathcal{N}$ collects data and has objective $F_i(x, \\xi_i, \\xi)$ where $\\xi_i\\in \\Xi_i$ is a random variable with fixed but unknown probability distribution with domain $\\Xi_i$ and similarly, $\\xi$ is a random variable with fixed but unknown probability distribution with domain $\\Xi$. The random variable $\\xi_i$ models local environmental fluctuations such as noise. The random variable $\\xi$, on the other hand, models a global information state.\n",
    "\n",
    "In this simulation, we consider a simple Bertrand competition where the players cooperatively seek the social optimum. Each individual has a demand function $D_i(x_i,x_{-i},\\xi)$ which is a nonincreasing function of the prices $x_i$ and $x_{-i}$. Each player obtains a revenue $F_i$ where\n",
    "$$F_i(x_i,x_{-i},\\xi) = x_i\\cdot D_i(x_i,x_{-i},\\xi).$$\n",
    "\n",
    "Here, we consider a linear demand function where $\\xi$ determines the base demand and the price elasticities with respect to each price $x_i$ are given by a vector $\\theta\\in\\mathbb{R}^n$:\n",
    "$$D_i(x_i,x_{-i},\\xi) = \\xi + \\theta^\\top x$$"
   ]
  },
  {
   "cell_type": "markdown",
   "id": "5279a755-060e-4790-ba27-5668d1af9561",
   "metadata": {},
   "source": [
    "# Generate Communication Network"
   ]
  },
  {
   "cell_type": "code",
   "execution_count": 2,
   "id": "524abf3f-3f68-496f-98ec-6e035190a50b",
   "metadata": {},
   "outputs": [],
   "source": [
    "n = 2  # Number of nodes\n",
    "n_i = n  # Number of informed nodes\n",
    "\n",
    "N_i = np.random.choice(n, size=n_i)  # Randomly select n_i informed nodes\n",
    "N = np.zeros(n, dtype=bool)  # Set of n nodes, initialized to False (uninformed)\n",
    "N[N_i] = True  # Set informed node indices to True (informed)\n",
    "\n",
    "G = nx.path_graph(n)  # Generate line graph from the nodes in N\n",
    "\n",
    "informed_dict = {}  # generate dictionary to add informed status as attribute to each node\n",
    "for node in G.nodes:\n",
    "    informed_dict[node] = {'informed': N[node]}  \n",
    "    \n",
    "nx.set_node_attributes(G, informed_dict)  # set attributes for each node"
   ]
  },
  {
   "cell_type": "code",
   "execution_count": 3,
   "id": "31c52828-888b-4b28-9712-6d743dd953ae",
   "metadata": {},
   "outputs": [
    {
     "data": {
      "image/png": "[encoded data removed]",
      "text/plain": [
       "<Figure size 432x288 with 1 Axes>"
      ]
     },
     "metadata": {},
     "output_type": "display_data"
    }
   ],
   "source": [
    "nx.draw_spectral(G)"
   ]
  },
  {
   "cell_type": "markdown",
   "id": "e7aae8bd-3522-4e13-8e47-0fff2cb2efcc",
   "metadata": {},
   "source": [
    "# Problem Parameters"
   ]
  },
  {
   "cell_type": "code",
   "execution_count": 4,
   "id": "87a49b7e-a42f-4e80-be27-0e4a612f169f",
   "metadata": {},
   "outputs": [
    {
     "name": "stdout",
     "output_type": "stream",
     "text": [
      "[[-0.8992532   0.20701112]\n",
      " [ 0.08630584 -0.72870458]]\n"
     ]
    }
   ],
   "source": [
    "theta_0 = (1/(n+3))*np.ones((n,n))-np.eye(n)\n",
    "theta = theta_0 + 0.1*np.random.randn(n,n)\n",
    "print(theta)\n",
    "xi = n"
   ]
  },
  {
   "cell_type": "markdown",
   "id": "afb0e858-cd31-4697-959c-9fc97e9c6024",
   "metadata": {},
   "source": [
    "# Loss and Gradient Oracles"
   ]
  },
  {
   "cell_type": "code",
   "execution_count": 5,
   "id": "44261519-d295-4069-aca9-0906dfbb4b14",
   "metadata": {},
   "outputs": [],
   "source": [
    "def demand(x,theta,xi):  # calculate demand\n",
    "    return np.dot(theta,x) + xi\n",
    "\n",
    "def revenue(x,theta,xi):  # calculate revenue\n",
    "    return x*demand(x,theta,xi)\n",
    "\n",
    "def total_revenue(x,theta,xi):  # calculate social revenue\n",
    "    return np.sum(revenue(x,theta,xi))\n",
    "\n",
    "def grad_revenue(x,theta,xi):  # gradients wrt individual revenues\n",
    "    return 2*np.dot(theta,x) + xi"
   ]
  },
  {
   "cell_type": "markdown",
   "id": "898df06e-af79-44a5-89a3-92d325ae87c3",
   "metadata": {},
   "source": [
    "# Centralized GD"
   ]
  },
  {
   "cell_type": "code",
   "execution_count": 6,
   "id": "20482521-b2fa-4b14-8099-b1c91c1a7a10",
   "metadata": {},
   "outputs": [
    {
     "name": "stderr",
     "output_type": "stream",
     "text": [
      "100%|████████████████████████████████████| 1000/1000 [00:00<00:00, 51100.82it/s]\n"
     ]
    },
    {
     "data": {
      "image/png": "[encoded data removed]",
      "text/plain": [
       "<Figure size 432x288 with 1 Axes>"
      ]
     },
     "metadata": {
      "needs_background": "light"
     },
     "output_type": "display_data"
    },
    {
     "name": "stdout",
     "output_type": "stream",
     "text": [
      "[1.46796319 1.54615785]\n"
     ]
    }
   ],
   "source": [
    "x = np.random.rand(n)  # Initialize prices\n",
    "step = 1e-2  # Step size\n",
    "p_max = n  # Set maximum price\n",
    "rev = []\n",
    "x_hist = []\n",
    "iterations = 1000\n",
    "\n",
    "# Run centralized GD\n",
    "for i in trange(iterations):\n",
    "    rev.append(total_revenue(x,theta,xi))\n",
    "    x_hist.append(x.copy())\n",
    "    x += step*grad_revenue(x,theta,xi)\n",
    "    x = np.clip(x,0,p_max)\n",
    "    \n",
    "plt.figure()\n",
    "plt.plot(rev)\n",
    "plt.grid()\n",
    "plt.show()\n",
    "\n",
    "print(x)"
   ]
  },
  {
   "cell_type": "code",
   "execution_count": 7,
   "id": "ae169aed-d053-4787-ac5c-87b83c5d0909",
   "metadata": {},
   "outputs": [
    {
     "data": {
      "image/png": "[encoded data removed]",
      "text/plain": [
       "<Figure size 432x288 with 1 Axes>"
      ]
     },
     "metadata": {
      "needs_background": "light"
     },
     "output_type": "display_data"
    }
   ],
   "source": [
    "if n==2:\n",
    "    x_hist = np.array(x_hist)\n",
    "    plt.figure()\n",
    "    plt.plot(x_hist[:,0],x_hist[:,1],'-o')\n",
    "    plt.scatter(x_hist[-1,0],x_hist[-1,1],c='k',zorder=10)\n",
    "    plt.grid()\n",
    "    plt.show()"
   ]
  },
  {
   "cell_type": "markdown",
   "id": "c629e3c9-e317-40c0-a971-0d77d58e6c0b",
   "metadata": {},
   "source": [
    "# Distributed SGD with synchronous information"
   ]
  },
  {
   "cell_type": "code",
   "execution_count": 8,
   "id": "fba447ed-8404-4f8f-8081-509a438731ea",
   "metadata": {},
   "outputs": [
    {
     "name": "stderr",
     "output_type": "stream",
     "text": [
      "<class 'networkx.utils.decorators.argmap'> compilation 12:4: FutureWarning: laplacian_matrix will return a scipy.sparse array instead of a matrix in Networkx 3.0.\n",
      "100%|████████████████████████████████████| 1000/1000 [00:00<00:00, 36781.17it/s]\n"
     ]
    },
    {
     "data": {
      "image/png": "[encoded data removed]",
      "text/plain": [
       "<Figure size 432x288 with 1 Axes>"
      ]
     },
     "metadata": {
      "needs_background": "light"
     },
     "output_type": "display_data"
    },
    {
     "name": "stdout",
     "output_type": "stream",
     "text": [
      "[1.4679633  1.54615798]\n"
     ]
    }
   ],
   "source": [
    "P = nx.laplacian_matrix(G).toarray()\n",
    "P = np.eye(n) - (1/(1+np.max(np.diagonal(P))))*P  # Define doubly stochastic mixing matrix from Laplacian\n",
    "\n",
    "X = np.random.rand(n,n)\n",
    "\n",
    "step = 1e-2  # Step size\n",
    "p_max = n  # Set maximum price\n",
    "rev = []\n",
    "x_hist = []\n",
    "iterations = 1000\n",
    "\n",
    "for i in trange(iterations):\n",
    "    x_hist.append(X.copy().T)\n",
    "    X = np.dot(P,X)\n",
    "    temp = []\n",
    "    for j in range(n):\n",
    "        X[j] += step*grad_revenue(X[j],theta,xi)\n",
    "        temp.append(total_revenue(X[j],theta,xi))\n",
    "    rev.append(sum(temp)/len(temp))\n",
    "    X = np.clip(X,0,p_max)\n",
    "    \n",
    "plt.figure()\n",
    "plt.plot(rev)\n",
    "plt.grid()\n",
    "plt.show()\n",
    "\n",
    "print(np.mean(X,axis=0))"
   ]
  },
  {
   "cell_type": "code",
   "execution_count": 9,
   "id": "0721cef6-0fd0-4789-b8eb-66f864f44579",
   "metadata": {},
   "outputs": [
    {
     "data": {
      "image/png": "[encoded data removed]",
      "text/plain": [
       "<Figure size 432x288 with 1 Axes>"
      ]
     },
     "metadata": {
      "needs_background": "light"
     },
     "output_type": "display_data"
    }
   ],
   "source": [
    "if n==2:\n",
    "    x_hist = np.array(x_hist)\n",
    "    plt.figure()\n",
    "    plt.plot(x_hist[:,0],x_hist[:,1],'-o')\n",
    "    plt.scatter(x_hist[-1,0],x_hist[-1,1],c='k',zorder=10)\n",
    "    plt.grid()\n",
    "    plt.show()"
   ]
  },
  {
   "cell_type": "code",
   "execution_count": 10,
   "id": "50051a4e-d6e3-4337-b544-d4932d40df9f",
   "metadata": {},
   "outputs": [
    {
     "name": "stdout",
     "output_type": "stream",
     "text": [
      "error = 2.795181866263053e-14\n"
     ]
    }
   ],
   "source": [
    "print(f'error = {la.norm(x-np.mean(X,axis=0))**2}')"
   ]
  },
  {
   "cell_type": "code",
   "execution_count": null,
   "id": "99c57245-72d3-413e-9c06-f9779867ca59",
   "metadata": {},
   "outputs": [],
   "source": []
  }
 ],
 "metadata": {
  "kernelspec": {
   "display_name": "Python 3 (ipykernel)",
   "language": "python",
   "name": "python3"
  },
  "language_info": {
   "codemirror_mode": {
    "name": "ipython",
    "version": 3
   },
   "file_extension": ".py",
   "mimetype": "text/x-python",
   "name": "python",
   "nbconvert_exporter": "python",
   "pygments_lexer": "ipython3",
   "version": "3.9.10"
  }
 },
 "nbformat": 4,
 "nbformat_minor": 5
}
