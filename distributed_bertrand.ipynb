{
 "cells": [
  {
   "cell_type": "code",
   "execution_count": 1,
   "id": "f52fc6c6-98a4-4a82-93e1-fc0621613799",
   "metadata": {},
   "outputs": [],
   "source": [
    "import numpy as np\n",
    "import numpy.linalg as la\n",
    "import matplotlib.pyplot as plt\n",
    "import networkx as nx\n",
    "import math\n",
    "from tqdm import tqdm, trange"
   ]
  },
  {
   "cell_type": "markdown",
   "id": "716dfe22-739b-4425-9164-bd01760f7e91",
   "metadata": {},
   "source": [
    "# Networked Distributed Optimization with Exogenous Inputs\n",
    "Consider an $n$-player network game defined on graph structure $\\mathcal{G}=(\\mathcal{N},\\mathcal{E})$, where $\\mathcal{N}=\\{1,\\ldots,n\\}$ are the nodes in the graph---one corresponding to each player---and $$\\mathcal{E}=\\{(i,j)|\\ i,j\\in \\mathcal{N} \\ \\text{such that}\\ i\\  \\text{is connected to } j\\},$$\n",
    "is the set of edges.\n",
    "\n",
    "Each player $i\\in \\mathcal{N}$ collects data and has objective $F_i(x, \\xi_i, \\xi)$ where $\\xi_i\\in \\Xi_i$ is a random variable with fixed but unknown probability distribution with domain $\\Xi_i$ and similarly, $\\xi$ is a random variable with fixed but unknown probability distribution with domain $\\Xi$. The random variable $\\xi_i$ models local environmental fluctuations such as noise. The random variable $\\xi$, on the other hand, models a global information state.\n",
    "\n",
    "In this simulation, we consider a simple Bertrand competition where the players cooperatively seek the social optimum. Each individual has a demand function $D_i(x_i,x_{-i},\\xi)$ which is a nonincreasing function of the prices $x_i$ and $x_{-i}$. Each player obtains a revenue $F_i$ where\n",
    "$$F_i(x_i,x_{-i},\\xi) = x_i\\cdot D_i(x_i,x_{-i},\\xi).$$\n",
    "\n",
    "Here, we consider a linear demand function where $\\xi$ determines the base demand and the price elasticities with respect to each price $x_i$ are given by a vector $\\theta\\in\\mathbb{R}^n$:\n",
    "$$D_i(x_i,x_{-i},\\xi) = \\xi + \\theta^\\top x$$"
   ]
  },
  {
   "cell_type": "markdown",
   "id": "5279a755-060e-4790-ba27-5668d1af9561",
   "metadata": {},
   "source": [
    "# Generate Communication Network"
   ]
  },
  {
   "cell_type": "code",
   "execution_count": 2,
   "id": "524abf3f-3f68-496f-98ec-6e035190a50b",
   "metadata": {},
   "outputs": [],
   "source": [
    "n = 100  # Number of nodes\n",
    "n_i = 5  # Number of informed nodes\n",
    "\n",
    "N_i = np.random.choice(n, size=n_i)  # Randomly select n_i informed nodes\n",
    "N = np.zeros(n, dtype=bool)  # Set of n nodes, initialized to False (uninformed)\n",
    "N[N_i] = True  # Set informed node indices to True (informed)\n",
    "\n",
    "G = nx.path_graph(n)  # Generate line graph from the nodes in N\n",
    "\n",
    "attribute_dict = {}  # generate dictionary to add informed status as attribute to each node\n",
    "for node in G.nodes:\n",
    "    attribute_dict[node] = {'informed': N[node], 'xi': np.random.randn(1)}  \n",
    "    \n",
    "nx.set_node_attributes(G, attribute_dict)  # set attributes for each node"
   ]
  },
  {
   "cell_type": "code",
   "execution_count": 3,
   "id": "31c52828-888b-4b28-9712-6d743dd953ae",
   "metadata": {},
   "outputs": [
    {
     "data": {
      "image/png": "[encoded data removed]",
      "text/plain": [
       "<Figure size 432x288 with 1 Axes>"
      ]
     },
     "metadata": {},
     "output_type": "display_data"
    }
   ],
   "source": [
    "nx.draw_spectral(G)"
   ]
  },
  {
   "cell_type": "markdown",
   "id": "e7aae8bd-3522-4e13-8e47-0fff2cb2efcc",
   "metadata": {},
   "source": [
    "# Problem Parameters"
   ]
  },
  {
   "cell_type": "code",
   "execution_count": 4,
   "id": "87a49b7e-a42f-4e80-be27-0e4a612f169f",
   "metadata": {},
   "outputs": [
    {
     "name": "stdout",
     "output_type": "stream",
     "text": [
      "[[-9.74861429e-01 -9.55447605e-03  1.22240570e-01 ...  8.33557339e-02\n",
      "   1.35606387e-01  4.62098762e-02]\n",
      " [ 5.64477898e-04 -9.98547184e-01  1.29555736e-01 ... -1.41766643e-03\n",
      "  -6.87532918e-02 -2.08743602e-02]\n",
      " [-3.72234367e-02 -5.16029685e-02 -8.44937397e-01 ...  1.75528954e-01\n",
      "   2.71278731e-02  1.03591448e-01]\n",
      " ...\n",
      " [-3.49542283e-01  8.24749782e-02  1.63514429e-02 ... -1.17098833e+00\n",
      "   7.58939172e-02  6.29858980e-02]\n",
      " [ 1.09198714e-01 -1.13114140e-01  7.74467894e-03 ...  2.61036791e-01\n",
      "  -1.08544053e+00 -8.12532701e-02]\n",
      " [ 4.72152632e-02  3.50541255e-02  6.75602540e-02 ... -2.13025758e-02\n",
      "  -1.25515447e-01 -1.04142014e+00]]\n"
     ]
    }
   ],
   "source": [
    "theta_0 = (1/(n+3))*np.ones((n,n))-np.eye(n)\n",
    "theta = theta_0 + 0.1*np.random.randn(n,n)\n",
    "print(theta)\n",
    "xi = n"
   ]
  },
  {
   "cell_type": "markdown",
   "id": "afb0e858-cd31-4697-959c-9fc97e9c6024",
   "metadata": {},
   "source": [
    "# Loss and Gradient Oracles"
   ]
  },
  {
   "cell_type": "code",
   "execution_count": 5,
   "id": "44261519-d295-4069-aca9-0906dfbb4b14",
   "metadata": {},
   "outputs": [],
   "source": [
    "def demand(x,theta,xi):  # calculate demand\n",
    "    return np.dot(theta,x) + xi\n",
    "\n",
    "def revenue(x,theta,xi):  # calculate revenue\n",
    "    return x*demand(x,theta,xi)\n",
    "\n",
    "def total_revenue(x,theta,xi):  # calculate social revenue\n",
    "    return np.sum(revenue(x,theta,xi))\n",
    "\n",
    "def grad_revenue(x,theta,xi):  # gradients wrt individual revenues\n",
    "    return 2*np.dot(theta,x) + xi"
   ]
  },
  {
   "cell_type": "markdown",
   "id": "898df06e-af79-44a5-89a3-92d325ae87c3",
   "metadata": {},
   "source": [
    "# Centralized GD"
   ]
  },
  {
   "cell_type": "code",
   "execution_count": 6,
   "id": "20482521-b2fa-4b14-8099-b1c91c1a7a10",
   "metadata": {},
   "outputs": [
    {
     "name": "stderr",
     "output_type": "stream",
     "text": [
      "100%|█████████████████████████████████████| 2000/2000 [00:00<00:00, 6217.51it/s]\n"
     ]
    },
    {
     "data": {
      "image/png": "[encoded data removed]",
      "text/plain": [
       "<Figure size 432x288 with 1 Axes>"
      ]
     },
     "metadata": {
      "needs_background": "light"
     },
     "output_type": "display_data"
    },
    {
     "name": "stdout",
     "output_type": "stream",
     "text": [
      "[ 48.73683919 100.         100.           0.         100.\n",
      " 100.         100.         100.          94.41893562  35.89112417\n",
      " 100.         100.          22.67527265 100.         100.\n",
      " 100.         100.          74.57190546 100.         100.\n",
      " 100.         100.         100.         100.          58.4144449\n",
      " 100.         100.         100.         100.         100.\n",
      " 100.         100.         100.           0.         100.\n",
      " 100.         100.         100.         100.          83.9387013\n",
      " 100.           9.95666988 100.         100.          26.81748165\n",
      " 100.         100.          76.53073969 100.          63.55765607\n",
      " 100.         100.         100.          47.5673345   16.99995556\n",
      " 100.         100.         100.         100.           0.\n",
      " 100.          58.52837025 100.         100.         100.\n",
      " 100.         100.         100.          72.13932731 100.\n",
      " 100.         100.         100.         100.          36.44488713\n",
      " 100.         100.         100.         100.          95.81654984\n",
      " 100.          92.45925565 100.          68.87483109 100.\n",
      " 100.         100.         100.          91.05539553 100.\n",
      " 100.          96.00113632 100.         100.         100.\n",
      " 100.         100.         100.         100.         100.        ]\n"
     ]
    }
   ],
   "source": [
    "x = np.random.rand(n)  # Initialize prices\n",
    "step = 1e-2  # Step size\n",
    "p_max = n  # Set maximum price\n",
    "rev = []\n",
    "x_hist = []\n",
    "iterations = 2000\n",
    "\n",
    "# Run centralized GD\n",
    "for i in trange(iterations):\n",
    "    xi = n+np.random.randn(1)\n",
    "    rev.append(total_revenue(x,theta,xi))\n",
    "    x_hist.append(x.copy())\n",
    "    x += step*grad_revenue(x,theta,xi)\n",
    "    x = np.clip(x,0,p_max)\n",
    "    \n",
    "plt.figure()\n",
    "plt.plot(rev)\n",
    "plt.grid()\n",
    "plt.title('Centralized SGD')\n",
    "plt.xlabel('Iterations')\n",
    "plt.ylabel('Total Revenue')\n",
    "plt.tight_layout()\n",
    "plt.savefig('./figures/central_sgd.png')\n",
    "plt.show()\n",
    "\n",
    "print(x)"
   ]
  },
  {
   "cell_type": "code",
   "execution_count": 7,
   "id": "ae169aed-d053-4787-ac5c-87b83c5d0909",
   "metadata": {},
   "outputs": [],
   "source": [
    "if n==2:\n",
    "    x_hist = np.array(x_hist)\n",
    "    plt.figure()\n",
    "    plt.plot(x_hist[:,0],x_hist[:,1],'-o')\n",
    "    plt.scatter(x_hist[-1,0],x_hist[-1,1],c='k',zorder=10)\n",
    "    plt.grid()\n",
    "    plt.show()"
   ]
  },
  {
   "cell_type": "markdown",
   "id": "c629e3c9-e317-40c0-a971-0d77d58e6c0b",
   "metadata": {},
   "source": [
    "# Distributed SGD with synchronous information"
   ]
  },
  {
   "cell_type": "code",
   "execution_count": 8,
   "id": "fba447ed-8404-4f8f-8081-509a438731ea",
   "metadata": {},
   "outputs": [
    {
     "name": "stderr",
     "output_type": "stream",
     "text": [
      "<class 'networkx.utils.decorators.argmap'> compilation 12:4: FutureWarning: laplacian_matrix will return a scipy.sparse array instead of a matrix in Networkx 3.0.\n",
      "100%|██████████████████████████████████████| 2000/2000 [00:13<00:00, 147.56it/s]\n"
     ]
    },
    {
     "data": {
      "image/png": "[encoded data removed]",
      "text/plain": [
       "<Figure size 432x288 with 1 Axes>"
      ]
     },
     "metadata": {
      "needs_background": "light"
     },
     "output_type": "display_data"
    },
    {
     "name": "stdout",
     "output_type": "stream",
     "text": [
      "[ 48.88670563 100.         100.           0.         100.\n",
      " 100.         100.         100.          94.54941105  36.01238056\n",
      " 100.         100.          22.8442529  100.         100.\n",
      " 100.         100.          74.74264871 100.         100.\n",
      " 100.         100.         100.         100.          58.57069111\n",
      " 100.         100.         100.         100.         100.\n",
      " 100.         100.         100.           0.         100.\n",
      " 100.         100.         100.         100.          84.03193657\n",
      " 100.          10.02581348 100.         100.          26.93740209\n",
      " 100.         100.          76.66007225 100.          63.6262478\n",
      " 100.         100.         100.          47.64988525  17.09535813\n",
      " 100.         100.         100.         100.           0.\n",
      " 100.          58.58860928 100.         100.         100.\n",
      " 100.         100.         100.          72.29812337 100.\n",
      " 100.         100.         100.         100.          36.53008961\n",
      " 100.         100.         100.         100.          95.89003656\n",
      " 100.          92.60892007 100.          68.92624511 100.\n",
      " 100.         100.         100.          91.12965226 100.\n",
      " 100.          96.14833613 100.         100.         100.\n",
      " 100.         100.         100.         100.         100.        ]\n"
     ]
    }
   ],
   "source": [
    "P = nx.laplacian_matrix(G).toarray()\n",
    "P = np.eye(n) - (1/(1+np.max(np.diagonal(P))))*P  # Define doubly stochastic mixing matrix from Laplacian\n",
    "\n",
    "X = np.random.rand(n,n)\n",
    "\n",
    "step = 1e-2  # Step size\n",
    "p_max = n  # Set maximum price\n",
    "rev_cent = []\n",
    "x_hist = []\n",
    "iterations = 2000\n",
    "\n",
    "for i in trange(iterations):\n",
    "    xi = n+np.random.randn(1)\n",
    "    x_hist.append(X.copy().T)\n",
    "    X = np.dot(P,X)\n",
    "    temp = []\n",
    "    for j in range(n):\n",
    "        X[j] += step*grad_revenue(X[j],theta,xi)\n",
    "        temp.append(total_revenue(X[j],theta,xi))\n",
    "    rev_cent.append(sum(temp)/len(temp))\n",
    "    X = np.clip(X,0,p_max)\n",
    "    \n",
    "plt.figure()\n",
    "plt.plot(rev_cent)\n",
    "plt.grid()\n",
    "plt.title('Distributed Synchronous SGD')\n",
    "plt.xlabel('Iterations')\n",
    "plt.ylabel('Total Revenue')\n",
    "plt.tight_layout()\n",
    "plt.savefig('./figures/dist_sgd_sync.png')\n",
    "plt.show()\n",
    "\n",
    "print(np.mean(X,axis=0))"
   ]
  },
  {
   "cell_type": "code",
   "execution_count": 9,
   "id": "0721cef6-0fd0-4789-b8eb-66f864f44579",
   "metadata": {},
   "outputs": [],
   "source": [
    "if n==2:\n",
    "    x_hist = np.array(x_hist)\n",
    "    plt.figure()\n",
    "    plt.plot(x_hist[:,0],x_hist[:,1],'-o')\n",
    "    plt.scatter(x_hist[-1,0],x_hist[-1,1],c='k',zorder=10)\n",
    "    plt.grid()\n",
    "    plt.show()"
   ]
  },
  {
   "cell_type": "code",
   "execution_count": 10,
   "id": "50051a4e-d6e3-4337-b544-d4932d40df9f",
   "metadata": {},
   "outputs": [
    {
     "name": "stdout",
     "output_type": "stream",
     "text": [
      "error = 0.29523930969338924\n"
     ]
    }
   ],
   "source": [
    "print(f'error = {la.norm(x-np.mean(X,axis=0))**2}')"
   ]
  },
  {
   "cell_type": "markdown",
   "id": "59c6d691-d0c1-4f3d-9e87-39345da1b1e3",
   "metadata": {},
   "source": [
    "# Distributed SGD with asynchronous information"
   ]
  },
  {
   "cell_type": "code",
   "execution_count": 11,
   "id": "b6c599ae-e880-4cb6-9c34-0e77813eb636",
   "metadata": {},
   "outputs": [
    {
     "name": "stderr",
     "output_type": "stream",
     "text": [
      "100%|██████████████████████████████████████| 2000/2000 [00:13<00:00, 145.17it/s]\n"
     ]
    },
    {
     "data": {
      "image/png": "[encoded data removed]",
      "text/plain": [
       "<Figure size 432x288 with 1 Axes>"
      ]
     },
     "metadata": {
      "needs_background": "light"
     },
     "output_type": "display_data"
    },
    {
     "name": "stdout",
     "output_type": "stream",
     "text": [
      "[ 48.83453836 100.         100.           0.         100.\n",
      " 100.         100.         100.          94.49699836  35.96374247\n",
      " 100.         100.          22.78774043 100.         100.\n",
      " 100.         100.          74.6863054  100.         100.\n",
      " 100.         100.         100.         100.          58.5161669\n",
      " 100.         100.         100.         100.         100.\n",
      " 100.         100.         100.           0.         100.\n",
      " 100.         100.         100.         100.          83.98546116\n",
      " 100.           9.98378818 100.         100.          26.88648857\n",
      " 100.         100.          76.6080921  100.          63.5845196\n",
      " 100.         100.         100.          47.60456614  17.04576644\n",
      " 100.         100.         100.         100.           0.\n",
      " 100.          58.54411046 100.         100.         100.\n",
      " 100.         100.         100.          72.24585474 100.\n",
      " 100.         100.         100.         100.          36.48552924\n",
      " 100.         100.         100.         100.          95.84731428\n",
      " 100.          92.55375245 100.          68.88462399 100.\n",
      " 100.         100.         100.          91.08484717 100.\n",
      " 100.          96.0957911  100.         100.         100.\n",
      " 100.         100.         100.         100.         100.        ]\n"
     ]
    }
   ],
   "source": [
    "P = nx.laplacian_matrix(G).toarray()\n",
    "P = np.eye(n) - (1/(1+np.max(np.diagonal(P))))*P  # Define doubly stochastic mixing matrix from Laplacian\n",
    "\n",
    "X = np.random.rand(n,n)\n",
    "\n",
    "step = 1e-2  # Step size\n",
    "p_max = n  # Set maximum price\n",
    "rev_dist = []\n",
    "x_dist_hist = []\n",
    "iterations = 2000\n",
    "\n",
    "for i in trange(iterations):\n",
    "    xi = n+np.random.randn(1)\n",
    "    for node in range(n):\n",
    "        if G.nodes[node]['informed']:\n",
    "            G.nodes[node]['xi'] = xi\n",
    "        else:\n",
    "            xi_lst = []\n",
    "            for neig in G.neighbors(node):\n",
    "                xi_lst.append(G.nodes[neig]['xi'])\n",
    "            G.nodes[node]['xi'] = sum(xi_lst)/len(xi_lst)\n",
    "    x_dist_hist.append(X.copy().T)\n",
    "    X = np.dot(P,X)\n",
    "    temp = []\n",
    "    for j in range(n):\n",
    "        xi_j = G.nodes[j]['xi']\n",
    "        X[j] += step*grad_revenue(X[j],theta,xi_j)\n",
    "        temp.append(total_revenue(X[j],theta,xi_j))\n",
    "    rev_dist.append(sum(temp)/len(temp))\n",
    "    X = np.clip(X,0,p_max)\n",
    "    \n",
    "plt.figure()\n",
    "plt.plot(rev_dist)\n",
    "plt.grid()\n",
    "plt.title('Distributed Asynchronous SGD')\n",
    "plt.xlabel('Iterations')\n",
    "plt.ylabel('Total Revenue')\n",
    "plt.tight_layout()\n",
    "plt.savefig('./figures/dist_sgd_async.png')\n",
    "plt.show()\n",
    "\n",
    "print(np.mean(X,axis=0))"
   ]
  },
  {
   "cell_type": "code",
   "execution_count": 12,
   "id": "c6ef2cca-6517-448c-92e4-e9244e340db9",
   "metadata": {},
   "outputs": [
    {
     "name": "stdout",
     "output_type": "stream",
     "text": [
      "error = 0.10791631927178046\n"
     ]
    }
   ],
   "source": [
    "print(f'error = {la.norm(x-np.mean(X,axis=0))**2}')"
   ]
  },
  {
   "cell_type": "markdown",
   "id": "a6831b9c-476e-413a-ab2c-725d09a12ddd",
   "metadata": {},
   "source": [
    "# Fully connected graph"
   ]
  },
  {
   "cell_type": "code",
   "execution_count": 13,
   "id": "8bfa2ec8-fa53-4cd4-933b-d3691f429349",
   "metadata": {},
   "outputs": [
    {
     "name": "stderr",
     "output_type": "stream",
     "text": [
      "100%|██████████████████████████████████████| 2000/2000 [00:16<00:00, 117.72it/s]\n"
     ]
    },
    {
     "data": {
      "image/png": "[encoded data removed]",
      "text/plain": [
       "<Figure size 432x288 with 1 Axes>"
      ]
     },
     "metadata": {
      "needs_background": "light"
     },
     "output_type": "display_data"
    },
    {
     "name": "stdout",
     "output_type": "stream",
     "text": [
      "[ 48.77178884 100.         100.           0.         100.\n",
      " 100.         100.         100.          94.44658598  35.912911\n",
      " 100.         100.          22.7197285  100.         100.\n",
      " 100.         100.          74.61684289 100.         100.\n",
      " 100.         100.         100.         100.          58.45423455\n",
      " 100.         100.         100.         100.         100.\n",
      " 100.         100.         100.           0.         100.\n",
      " 100.         100.         100.         100.          83.9508774\n",
      " 100.           9.95904163 100.         100.          26.84198746\n",
      " 100.         100.          76.55715864 100.          63.55906917\n",
      " 100.         100.         100.          47.57699059  17.01651486\n",
      " 100.         100.         100.         100.           0.\n",
      " 100.          58.52970016 100.         100.         100.\n",
      " 100.         100.         100.          72.17743976 100.\n",
      " 100.         100.         100.         100.          36.45419574\n",
      " 100.         100.         100.         100.          95.82275284\n",
      " 100.          92.49812213 100.          68.87131167 100.\n",
      " 100.         100.         100.          91.06228024 100.\n",
      " 100.          96.03465382 100.         100.         100.\n",
      " 100.         100.         100.         100.         100.        ]\n"
     ]
    }
   ],
   "source": [
    "n = 100  # Number of nodes\n",
    "n_i = 5  # Number of informed nodes\n",
    "\n",
    "N_i = np.random.choice(n, size=n_i)  # Randomly select n_i informed nodes\n",
    "N = np.zeros(n, dtype=bool)  # Set of n nodes, initialized to False (uninformed)\n",
    "N[N_i] = True  # Set informed node indices to True (informed)\n",
    "\n",
    "G = nx.erdos_renyi_graph(n,0.2)  # Generate line graph from the nodes in N\n",
    "\n",
    "attribute_dict = {}  # generate dictionary to add informed status as attribute to each node\n",
    "for node in G.nodes:\n",
    "    attribute_dict[node] = {'informed': N[node], 'xi': np.random.randn(1)}  \n",
    "    \n",
    "nx.set_node_attributes(G, attribute_dict)  # set attributes for each node\n",
    "\n",
    "P = nx.laplacian_matrix(G).toarray()\n",
    "P = np.eye(n) - (1/(1+np.max(np.diagonal(P))))*P  # Define doubly stochastic mixing matrix from Laplacian\n",
    "\n",
    "X = np.random.rand(n,n)\n",
    "\n",
    "step = 1e-2  # Step size\n",
    "p_max = n  # Set maximum price\n",
    "rev_dist = []\n",
    "x_dist_hist = []\n",
    "iterations = 2000\n",
    "\n",
    "for i in trange(iterations):\n",
    "    xi = n+np.random.randn(1)\n",
    "    for node in range(n):\n",
    "        if G.nodes[node]['informed']:\n",
    "            G.nodes[node]['xi'] = xi\n",
    "        else:\n",
    "            xi_lst = []\n",
    "            for neig in G.neighbors(node):\n",
    "                xi_lst.append(G.nodes[neig]['xi'])\n",
    "            G.nodes[node]['xi'] = sum(xi_lst)/len(xi_lst)\n",
    "    x_dist_hist.append(X.copy().T)\n",
    "    X = np.dot(P,X)\n",
    "    temp = []\n",
    "    for j in range(n):\n",
    "        xi_j = G.nodes[j]['xi']\n",
    "        X[j] += step*grad_revenue(X[j],theta,xi_j)\n",
    "        temp.append(total_revenue(X[j],theta,xi_j))\n",
    "    rev_dist.append(sum(temp)/len(temp))\n",
    "    X = np.clip(X,0,p_max)\n",
    "    \n",
    "plt.figure()\n",
    "plt.plot(rev_dist)\n",
    "plt.grid()\n",
    "plt.title('Distributed Asynchronous SGD Fully Connected Network')\n",
    "plt.xlabel('Iterations')\n",
    "plt.ylabel('Total Revenue')\n",
    "plt.tight_layout()\n",
    "plt.savefig('./figures/dist_sgd_fc.png')\n",
    "plt.show()\n",
    "\n",
    "print(np.mean(X,axis=0))"
   ]
  },
  {
   "cell_type": "code",
   "execution_count": 14,
   "id": "e3f26e18-715d-476f-bac4-7ac489593a4b",
   "metadata": {},
   "outputs": [
    {
     "name": "stdout",
     "output_type": "stream",
     "text": [
      "error = 0.014134687545720843\n"
     ]
    }
   ],
   "source": [
    "print(f'error = {la.norm(x-np.mean(X,axis=0))**2}')"
   ]
  },
  {
   "cell_type": "markdown",
   "id": "4e5396fe-ee56-4bdd-82b2-b0a4d3c70c81",
   "metadata": {},
   "source": [
    "# Erdos Renyi random graph p=0.2"
   ]
  },
  {
   "cell_type": "code",
   "execution_count": 15,
   "id": "48059232-2923-4e95-8649-db3914a0467d",
   "metadata": {},
   "outputs": [
    {
     "name": "stderr",
     "output_type": "stream",
     "text": [
      "100%|██████████████████████████████████████| 2000/2000 [00:16<00:00, 118.68it/s]\n"
     ]
    },
    {
     "data": {
      "image/png": "[encoded data removed]",
      "text/plain": [
       "<Figure size 432x288 with 1 Axes>"
      ]
     },
     "metadata": {
      "needs_background": "light"
     },
     "output_type": "display_data"
    },
    {
     "name": "stdout",
     "output_type": "stream",
     "text": [
      "[ 48.76819126 100.         100.           0.         100.\n",
      " 100.         100.         100.          94.44520057  35.91334345\n",
      " 100.         100.          22.71357991 100.         100.\n",
      " 100.         100.          74.61055642 100.         100.\n",
      " 100.         100.         100.         100.          58.44861713\n",
      " 100.         100.         100.         100.         100.\n",
      " 100.         100.         100.           0.         100.\n",
      " 100.         100.         100.         100.          83.95277276\n",
      " 100.           9.96260039 100.         100.          26.84050176\n",
      " 100.         100.          76.55648997 100.          63.56324808\n",
      " 100.         100.         100.          47.57823053  17.01596276\n",
      " 100.         100.         100.         100.           0.\n",
      " 100.          58.53295543 100.         100.         100.\n",
      " 100.         100.         100.          72.17323741 100.\n",
      " 100.         100.         100.         100.          36.45608844\n",
      " 100.         100.         100.         100.          95.82410891\n",
      " 100.          92.49202329 100.          68.87588639 100.\n",
      " 100.         100.         100.          91.06395326 100.\n",
      " 100.          96.03193655 100.         100.         100.\n",
      " 100.         100.         100.         100.         100.        ]\n"
     ]
    }
   ],
   "source": [
    "P = nx.laplacian_matrix(G).toarray()\n",
    "P = np.eye(n) - (1/(1+np.max(np.diagonal(P))))*P  # Define doubly stochastic mixing matrix from Laplacian\n",
    "\n",
    "X = np.random.rand(n,n)\n",
    "\n",
    "step = 1e-2  # Step size\n",
    "p_max = n  # Set maximum price\n",
    "rev_dist = []\n",
    "x_dist_hist = []\n",
    "iterations = 2000\n",
    "\n",
    "for i in trange(iterations):\n",
    "    xi = n+np.random.randn(1)\n",
    "    for node in range(n):\n",
    "        if G.nodes[node]['informed']:\n",
    "            G.nodes[node]['xi'] = xi\n",
    "        else:\n",
    "            xi_lst = []\n",
    "            for neig in G.neighbors(node):\n",
    "                xi_lst.append(G.nodes[neig]['xi'])\n",
    "            G.nodes[node]['xi'] = sum(xi_lst)/len(xi_lst)\n",
    "    x_dist_hist.append(X.copy().T)\n",
    "    X = np.dot(P,X)\n",
    "    temp = []\n",
    "    for j in range(n):\n",
    "        xi_j = G.nodes[j]['xi']\n",
    "        X[j] += step*grad_revenue(X[j],theta,xi_j)\n",
    "        temp.append(total_revenue(X[j],theta,xi_j))\n",
    "    rev_dist.append(sum(temp)/len(temp))\n",
    "    X = np.clip(X,0,p_max)\n",
    "    \n",
    "plt.figure()\n",
    "plt.plot(rev_dist)\n",
    "plt.grid()\n",
    "plt.title('Distributed Asynchronous SGD Random Expander Graph')\n",
    "plt.xlabel('Iterations')\n",
    "plt.ylabel('Total Revenue')\n",
    "plt.tight_layout()\n",
    "plt.savefig('./figures/dist_sgd_expander.png')\n",
    "plt.show()\n",
    "\n",
    "print(np.mean(X,axis=0))"
   ]
  },
  {
   "cell_type": "code",
   "execution_count": 16,
   "id": "b7eec6d5-8c8c-4d16-b8e2-d9ee0eeba42a",
   "metadata": {},
   "outputs": [
    {
     "name": "stdout",
     "output_type": "stream",
     "text": [
      "error = 0.011578231581213924\n"
     ]
    }
   ],
   "source": [
    "print(f'error = {la.norm(x-np.mean(X,axis=0))**2}')"
   ]
  }
 ],
 "metadata": {
  "kernelspec": {
   "display_name": "Python 3 (ipykernel)",
   "language": "python",
   "name": "python3"
  },
  "language_info": {
   "codemirror_mode": {
    "name": "ipython",
    "version": 3
   },
   "file_extension": ".py",
   "mimetype": "text/x-python",
   "name": "python",
   "nbconvert_exporter": "python",
   "pygments_lexer": "ipython3",
   "version": "3.9.10"
  }
 },
 "nbformat": 4,
 "nbformat_minor": 5
}
